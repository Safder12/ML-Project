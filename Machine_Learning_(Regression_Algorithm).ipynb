{
  "cells": [
    {
      "cell_type": "markdown",
      "metadata": {
        "id": "WtpY7itWArJd"
      },
      "source": [
        "# **Scikit-learn Documentation**"
      ]
    },
    {
      "cell_type": "markdown",
      "metadata": {
        "id": "qem8BhmpAzQF"
      },
      "source": [
        "**https://scikit-learn.org/stable/index.html**"
      ]
    },
    {
      "cell_type": "markdown",
      "metadata": {
        "id": "m3UbmPYoAbC0"
      },
      "source": [
        "#**Python Packages**"
      ]
    },
    {
      "cell_type": "code",
      "execution_count": 1,
      "metadata": {
        "id": "M5K0vI9OAehj"
      },
      "outputs": [
        {
          "ename": "ModuleNotFoundError",
          "evalue": "No module named 'plotly'",
          "output_type": "error",
          "traceback": [
            "\u001b[1;31m---------------------------------------------------------------------------\u001b[0m",
            "\u001b[1;31mModuleNotFoundError\u001b[0m                       Traceback (most recent call last)",
            "Cell \u001b[1;32mIn[1], line 4\u001b[0m\n\u001b[0;32m      2\u001b[0m \u001b[38;5;28;01mimport\u001b[39;00m \u001b[38;5;21;01mnumpy\u001b[39;00m \u001b[38;5;28;01mas\u001b[39;00m \u001b[38;5;21;01mnp\u001b[39;00m\n\u001b[0;32m      3\u001b[0m \u001b[38;5;28;01mimport\u001b[39;00m \u001b[38;5;21;01mseaborn\u001b[39;00m \u001b[38;5;28;01mas\u001b[39;00m \u001b[38;5;21;01msns\u001b[39;00m\n\u001b[1;32m----> 4\u001b[0m \u001b[38;5;28;01mimport\u001b[39;00m \u001b[38;5;21;01mplotly\u001b[39;00m\u001b[38;5;21;01m.\u001b[39;00m\u001b[38;5;21;01mexpress\u001b[39;00m \u001b[38;5;28;01mas\u001b[39;00m \u001b[38;5;21;01mpx\u001b[39;00m\n\u001b[0;32m      5\u001b[0m \u001b[38;5;28;01mimport\u001b[39;00m \u001b[38;5;21;01mmatplotlib\u001b[39;00m\u001b[38;5;21;01m.\u001b[39;00m\u001b[38;5;21;01mpyplot\u001b[39;00m \u001b[38;5;28;01mas\u001b[39;00m \u001b[38;5;21;01mplt\u001b[39;00m\n\u001b[0;32m      6\u001b[0m \u001b[38;5;28;01mfrom\u001b[39;00m \u001b[38;5;21;01msklearn\u001b[39;00m\u001b[38;5;21;01m.\u001b[39;00m\u001b[38;5;21;01mpreprocessing\u001b[39;00m \u001b[38;5;28;01mimport\u001b[39;00m MinMaxScaler, LabelEncoder\n",
            "\u001b[1;31mModuleNotFoundError\u001b[0m: No module named 'plotly'"
          ]
        }
      ],
      "source": [
        "import pandas as pd\n",
        "import numpy as np\n",
        "import seaborn as sns\n",
        "import plotly.express as px\n",
        "import matplotlib.pyplot as plt\n",
        "from sklearn.preprocessing import MinMaxScaler, LabelEncoder\n",
        "from sklearn.model_selection import GridSearchCV\n",
        "from sklearn.model_selection import train_test_split\n",
        "from sklearn.linear_model import LinearRegression, Ridge, Lasso, ElasticNet\n",
        "from sklearn.metrics import mean_squared_error, r2_score\n",
        "from sklearn.decomposition import PCA\n",
        "from sklearn.preprocessing import PolynomialFeatures\n",
        "from sklearn.feature_selection import SelectKBest\n",
        "from sklearn.feature_selection import chi2"
      ]
    },
    {
      "cell_type": "code",
      "execution_count": null,
      "metadata": {},
      "outputs": [],
      "source": [
        "! pip install"
      ]
    },
    {
      "cell_type": "markdown",
      "metadata": {
        "id": "D5-Uy16AZQdR"
      },
      "source": [
        "#**Machine Learning On Housing Price Prediction**"
      ]
    },
    {
      "cell_type": "markdown",
      "metadata": {
        "id": "jSOnqbjsZrVW"
      },
      "source": [
        "##Dataset with numerical target"
      ]
    },
    {
      "cell_type": "code",
      "execution_count": null,
      "metadata": {
        "colab": {
          "base_uri": "https://localhost:8080/"
        },
        "id": "1TLriXtBGdLl",
        "outputId": "6a3632e2-a7d1-46b0-b77a-0401abeb9f2d"
      },
      "outputs": [
        {
          "data": {
            "application/vnd.google.colaboratory.intrinsic+json": {
              "summary": "{\n  \"name\": \"df_housing\",\n  \"rows\": 1000,\n  \"fields\": [\n    {\n      \"column\": \"Square_Footage\",\n      \"properties\": {\n        \"dtype\": \"number\",\n        \"std\": 929,\n        \"min\": 801,\n        \"max\": 3997,\n        \"num_unique_values\": 857,\n        \"samples\": [\n          1184,\n          2876,\n          2596\n        ],\n        \"semantic_type\": \"\",\n        \"description\": \"\"\n      }\n    },\n    {\n      \"column\": \"Bedrooms\",\n      \"properties\": {\n        \"dtype\": \"number\",\n        \"std\": 1,\n        \"min\": 1,\n        \"max\": 5,\n        \"num_unique_values\": 5,\n        \"samples\": [\n          5,\n          3,\n          4\n        ],\n        \"semantic_type\": \"\",\n        \"description\": \"\"\n      }\n    },\n    {\n      \"column\": \"Bathrooms\",\n      \"properties\": {\n        \"dtype\": \"number\",\n        \"std\": 0,\n        \"min\": 1,\n        \"max\": 3,\n        \"num_unique_values\": 3,\n        \"samples\": [\n          2,\n          1,\n          3\n        ],\n        \"semantic_type\": \"\",\n        \"description\": \"\"\n      }\n    },\n    {\n      \"column\": \"House_Age\",\n      \"properties\": {\n        \"dtype\": \"number\",\n        \"std\": 28,\n        \"min\": 1,\n        \"max\": 99,\n        \"num_unique_values\": 99,\n        \"samples\": [\n          23,\n          6,\n          74\n        ],\n        \"semantic_type\": \"\",\n        \"description\": \"\"\n      }\n    },\n    {\n      \"column\": \"Floors\",\n      \"properties\": {\n        \"dtype\": \"number\",\n        \"std\": 0,\n        \"min\": 1,\n        \"max\": 2,\n        \"num_unique_values\": 2,\n        \"samples\": [\n          2,\n          1\n        ],\n        \"semantic_type\": \"\",\n        \"description\": \"\"\n      }\n    },\n    {\n      \"column\": \"Has_Garage\",\n      \"properties\": {\n        \"dtype\": \"number\",\n        \"std\": 0,\n        \"min\": 0,\n        \"max\": 1,\n        \"num_unique_values\": 2,\n        \"samples\": [\n          0,\n          1\n        ],\n        \"semantic_type\": \"\",\n        \"description\": \"\"\n      }\n    },\n    {\n      \"column\": \"Distance_to_City\",\n      \"properties\": {\n        \"dtype\": \"number\",\n        \"std\": 8.270137752019904,\n        \"min\": 1.0008908465160902,\n        \"max\": 29.93473228129582,\n        \"num_unique_values\": 1000,\n        \"samples\": [\n          28.274614633502676,\n          22.525870375316316\n        ],\n        \"semantic_type\": \"\",\n        \"description\": \"\"\n      }\n    },\n    {\n      \"column\": \"Neighborhood_Quality\",\n      \"properties\": {\n        \"dtype\": \"number\",\n        \"std\": 1,\n        \"min\": 1,\n        \"max\": 5,\n        \"num_unique_values\": 5,\n        \"samples\": [\n          2,\n          4\n        ],\n        \"semantic_type\": \"\",\n        \"description\": \"\"\n      }\n    },\n    {\n      \"column\": \"Property_Tax_Rate\",\n      \"properties\": {\n        \"dtype\": \"number\",\n        \"std\": 0.5867249389100815,\n        \"min\": 0.5078367499021865,\n        \"max\": 2.4989213621193462,\n        \"num_unique_values\": 1000,\n        \"samples\": [\n          2.1638830833761045,\n          1.8054562475544482\n        ],\n        \"semantic_type\": \"\",\n        \"description\": \"\"\n      }\n    },\n    {\n      \"column\": \"Has_Garden\",\n      \"properties\": {\n        \"dtype\": \"number\",\n        \"std\": 0,\n        \"min\": 0,\n        \"max\": 1,\n        \"num_unique_values\": 2,\n        \"samples\": [\n          1,\n          0\n        ],\n        \"semantic_type\": \"\",\n        \"description\": \"\"\n      }\n    },\n    {\n      \"column\": \"Price\",\n      \"properties\": {\n        \"dtype\": \"number\",\n        \"std\": 96199.10019642005,\n        \"min\": 135364.8296029956,\n        \"max\": 576398.1525150897,\n        \"num_unique_values\": 1000,\n        \"samples\": [\n          378671.04343312036,\n          482020.69606967847\n        ],\n        \"semantic_type\": \"\",\n        \"description\": \"\"\n      }\n    }\n  ]\n}",
              "type": "dataframe",
              "variable_name": "df_housing"
            },
            "text/html": [
              "\n",
              "  <div id=\"df-ebe4bd5f-ac6c-4d7c-92de-d4311a81bd3e\" class=\"colab-df-container\">\n",
              "    <div>\n",
              "<style scoped>\n",
              "    .dataframe tbody tr th:only-of-type {\n",
              "        vertical-align: middle;\n",
              "    }\n",
              "\n",
              "    .dataframe tbody tr th {\n",
              "        vertical-align: top;\n",
              "    }\n",
              "\n",
              "    .dataframe thead th {\n",
              "        text-align: right;\n",
              "    }\n",
              "</style>\n",
              "<table border=\"1\" class=\"dataframe\">\n",
              "  <thead>\n",
              "    <tr style=\"text-align: right;\">\n",
              "      <th></th>\n",
              "      <th>Square_Footage</th>\n",
              "      <th>Bedrooms</th>\n",
              "      <th>Bathrooms</th>\n",
              "      <th>House_Age</th>\n",
              "      <th>Floors</th>\n",
              "      <th>Has_Garage</th>\n",
              "      <th>Distance_to_City</th>\n",
              "      <th>Neighborhood_Quality</th>\n",
              "      <th>Property_Tax_Rate</th>\n",
              "      <th>Has_Garden</th>\n",
              "      <th>Price</th>\n",
              "    </tr>\n",
              "  </thead>\n",
              "  <tbody>\n",
              "    <tr>\n",
              "      <th>0</th>\n",
              "      <td>3974</td>\n",
              "      <td>1</td>\n",
              "      <td>2</td>\n",
              "      <td>12</td>\n",
              "      <td>1</td>\n",
              "      <td>1</td>\n",
              "      <td>12.669782</td>\n",
              "      <td>5</td>\n",
              "      <td>1.556379</td>\n",
              "      <td>0</td>\n",
              "      <td>513995.973670</td>\n",
              "    </tr>\n",
              "    <tr>\n",
              "      <th>1</th>\n",
              "      <td>1660</td>\n",
              "      <td>5</td>\n",
              "      <td>2</td>\n",
              "      <td>2</td>\n",
              "      <td>2</td>\n",
              "      <td>0</td>\n",
              "      <td>26.653020</td>\n",
              "      <td>2</td>\n",
              "      <td>1.434522</td>\n",
              "      <td>1</td>\n",
              "      <td>317969.924145</td>\n",
              "    </tr>\n",
              "    <tr>\n",
              "      <th>2</th>\n",
              "      <td>2094</td>\n",
              "      <td>4</td>\n",
              "      <td>1</td>\n",
              "      <td>7</td>\n",
              "      <td>2</td>\n",
              "      <td>1</td>\n",
              "      <td>26.971323</td>\n",
              "      <td>5</td>\n",
              "      <td>0.713424</td>\n",
              "      <td>0</td>\n",
              "      <td>377374.067787</td>\n",
              "    </tr>\n",
              "    <tr>\n",
              "      <th>3</th>\n",
              "      <td>1930</td>\n",
              "      <td>2</td>\n",
              "      <td>2</td>\n",
              "      <td>80</td>\n",
              "      <td>2</td>\n",
              "      <td>0</td>\n",
              "      <td>27.366083</td>\n",
              "      <td>1</td>\n",
              "      <td>1.799112</td>\n",
              "      <td>1</td>\n",
              "      <td>272919.622631</td>\n",
              "    </tr>\n",
              "    <tr>\n",
              "      <th>4</th>\n",
              "      <td>1895</td>\n",
              "      <td>1</td>\n",
              "      <td>1</td>\n",
              "      <td>3</td>\n",
              "      <td>1</td>\n",
              "      <td>1</td>\n",
              "      <td>10.102464</td>\n",
              "      <td>5</td>\n",
              "      <td>2.235999</td>\n",
              "      <td>1</td>\n",
              "      <td>312140.770339</td>\n",
              "    </tr>\n",
              "  </tbody>\n",
              "</table>\n",
              "</div>\n",
              "    <div class=\"colab-df-buttons\">\n",
              "\n",
              "  <div class=\"colab-df-container\">\n",
              "    <button class=\"colab-df-convert\" onclick=\"convertToInteractive('df-ebe4bd5f-ac6c-4d7c-92de-d4311a81bd3e')\"\n",
              "            title=\"Convert this dataframe to an interactive table.\"\n",
              "            style=\"display:none;\">\n",
              "\n",
              "  <svg xmlns=\"http://www.w3.org/2000/svg\" height=\"24px\" viewBox=\"0 -960 960 960\">\n",
              "    <path d=\"M120-120v-720h720v720H120Zm60-500h600v-160H180v160Zm220 220h160v-160H400v160Zm0 220h160v-160H400v160ZM180-400h160v-160H180v160Zm440 0h160v-160H620v160ZM180-180h160v-160H180v160Zm440 0h160v-160H620v160Z\"/>\n",
              "  </svg>\n",
              "    </button>\n",
              "\n",
              "  <style>\n",
              "    .colab-df-container {\n",
              "      display:flex;\n",
              "      gap: 12px;\n",
              "    }\n",
              "\n",
              "    .colab-df-convert {\n",
              "      background-color: #E8F0FE;\n",
              "      border: none;\n",
              "      border-radius: 50%;\n",
              "      cursor: pointer;\n",
              "      display: none;\n",
              "      fill: #1967D2;\n",
              "      height: 32px;\n",
              "      padding: 0 0 0 0;\n",
              "      width: 32px;\n",
              "    }\n",
              "\n",
              "    .colab-df-convert:hover {\n",
              "      background-color: #E2EBFA;\n",
              "      box-shadow: 0px 1px 2px rgba(60, 64, 67, 0.3), 0px 1px 3px 1px rgba(60, 64, 67, 0.15);\n",
              "      fill: #174EA6;\n",
              "    }\n",
              "\n",
              "    .colab-df-buttons div {\n",
              "      margin-bottom: 4px;\n",
              "    }\n",
              "\n",
              "    [theme=dark] .colab-df-convert {\n",
              "      background-color: #3B4455;\n",
              "      fill: #D2E3FC;\n",
              "    }\n",
              "\n",
              "    [theme=dark] .colab-df-convert:hover {\n",
              "      background-color: #434B5C;\n",
              "      box-shadow: 0px 1px 3px 1px rgba(0, 0, 0, 0.15);\n",
              "      filter: drop-shadow(0px 1px 2px rgba(0, 0, 0, 0.3));\n",
              "      fill: #FFFFFF;\n",
              "    }\n",
              "  </style>\n",
              "\n",
              "    <script>\n",
              "      const buttonEl =\n",
              "        document.querySelector('#df-ebe4bd5f-ac6c-4d7c-92de-d4311a81bd3e button.colab-df-convert');\n",
              "      buttonEl.style.display =\n",
              "        google.colab.kernel.accessAllowed ? 'block' : 'none';\n",
              "\n",
              "      async function convertToInteractive(key) {\n",
              "        const element = document.querySelector('#df-ebe4bd5f-ac6c-4d7c-92de-d4311a81bd3e');\n",
              "        const dataTable =\n",
              "          await google.colab.kernel.invokeFunction('convertToInteractive',\n",
              "                                                    [key], {});\n",
              "        if (!dataTable) return;\n",
              "\n",
              "        const docLinkHtml = 'Like what you see? Visit the ' +\n",
              "          '<a target=\"_blank\" href=https://colab.research.google.com/notebooks/data_table.ipynb>data table notebook</a>'\n",
              "          + ' to learn more about interactive tables.';\n",
              "        element.innerHTML = '';\n",
              "        dataTable['output_type'] = 'display_data';\n",
              "        await google.colab.output.renderOutput(dataTable, element);\n",
              "        const docLink = document.createElement('div');\n",
              "        docLink.innerHTML = docLinkHtml;\n",
              "        element.appendChild(docLink);\n",
              "      }\n",
              "    </script>\n",
              "  </div>\n",
              "\n",
              "\n",
              "<div id=\"df-7add25e1-829a-4a9f-a0db-807c4b19c835\">\n",
              "  <button class=\"colab-df-quickchart\" onclick=\"quickchart('df-7add25e1-829a-4a9f-a0db-807c4b19c835')\"\n",
              "            title=\"Suggest charts\"\n",
              "            style=\"display:none;\">\n",
              "\n",
              "<svg xmlns=\"http://www.w3.org/2000/svg\" height=\"24px\"viewBox=\"0 0 24 24\"\n",
              "     width=\"24px\">\n",
              "    <g>\n",
              "        <path d=\"M19 3H5c-1.1 0-2 .9-2 2v14c0 1.1.9 2 2 2h14c1.1 0 2-.9 2-2V5c0-1.1-.9-2-2-2zM9 17H7v-7h2v7zm4 0h-2V7h2v10zm4 0h-2v-4h2v4z\"/>\n",
              "    </g>\n",
              "</svg>\n",
              "  </button>\n",
              "\n",
              "<style>\n",
              "  .colab-df-quickchart {\n",
              "      --bg-color: #E8F0FE;\n",
              "      --fill-color: #1967D2;\n",
              "      --hover-bg-color: #E2EBFA;\n",
              "      --hover-fill-color: #174EA6;\n",
              "      --disabled-fill-color: #AAA;\n",
              "      --disabled-bg-color: #DDD;\n",
              "  }\n",
              "\n",
              "  [theme=dark] .colab-df-quickchart {\n",
              "      --bg-color: #3B4455;\n",
              "      --fill-color: #D2E3FC;\n",
              "      --hover-bg-color: #434B5C;\n",
              "      --hover-fill-color: #FFFFFF;\n",
              "      --disabled-bg-color: #3B4455;\n",
              "      --disabled-fill-color: #666;\n",
              "  }\n",
              "\n",
              "  .colab-df-quickchart {\n",
              "    background-color: var(--bg-color);\n",
              "    border: none;\n",
              "    border-radius: 50%;\n",
              "    cursor: pointer;\n",
              "    display: none;\n",
              "    fill: var(--fill-color);\n",
              "    height: 32px;\n",
              "    padding: 0;\n",
              "    width: 32px;\n",
              "  }\n",
              "\n",
              "  .colab-df-quickchart:hover {\n",
              "    background-color: var(--hover-bg-color);\n",
              "    box-shadow: 0 1px 2px rgba(60, 64, 67, 0.3), 0 1px 3px 1px rgba(60, 64, 67, 0.15);\n",
              "    fill: var(--button-hover-fill-color);\n",
              "  }\n",
              "\n",
              "  .colab-df-quickchart-complete:disabled,\n",
              "  .colab-df-quickchart-complete:disabled:hover {\n",
              "    background-color: var(--disabled-bg-color);\n",
              "    fill: var(--disabled-fill-color);\n",
              "    box-shadow: none;\n",
              "  }\n",
              "\n",
              "  .colab-df-spinner {\n",
              "    border: 2px solid var(--fill-color);\n",
              "    border-color: transparent;\n",
              "    border-bottom-color: var(--fill-color);\n",
              "    animation:\n",
              "      spin 1s steps(1) infinite;\n",
              "  }\n",
              "\n",
              "  @keyframes spin {\n",
              "    0% {\n",
              "      border-color: transparent;\n",
              "      border-bottom-color: var(--fill-color);\n",
              "      border-left-color: var(--fill-color);\n",
              "    }\n",
              "    20% {\n",
              "      border-color: transparent;\n",
              "      border-left-color: var(--fill-color);\n",
              "      border-top-color: var(--fill-color);\n",
              "    }\n",
              "    30% {\n",
              "      border-color: transparent;\n",
              "      border-left-color: var(--fill-color);\n",
              "      border-top-color: var(--fill-color);\n",
              "      border-right-color: var(--fill-color);\n",
              "    }\n",
              "    40% {\n",
              "      border-color: transparent;\n",
              "      border-right-color: var(--fill-color);\n",
              "      border-top-color: var(--fill-color);\n",
              "    }\n",
              "    60% {\n",
              "      border-color: transparent;\n",
              "      border-right-color: var(--fill-color);\n",
              "    }\n",
              "    80% {\n",
              "      border-color: transparent;\n",
              "      border-right-color: var(--fill-color);\n",
              "      border-bottom-color: var(--fill-color);\n",
              "    }\n",
              "    90% {\n",
              "      border-color: transparent;\n",
              "      border-bottom-color: var(--fill-color);\n",
              "    }\n",
              "  }\n",
              "</style>\n",
              "\n",
              "  <script>\n",
              "    async function quickchart(key) {\n",
              "      const quickchartButtonEl =\n",
              "        document.querySelector('#' + key + ' button');\n",
              "      quickchartButtonEl.disabled = true;  // To prevent multiple clicks.\n",
              "      quickchartButtonEl.classList.add('colab-df-spinner');\n",
              "      try {\n",
              "        const charts = await google.colab.kernel.invokeFunction(\n",
              "            'suggestCharts', [key], {});\n",
              "      } catch (error) {\n",
              "        console.error('Error during call to suggestCharts:', error);\n",
              "      }\n",
              "      quickchartButtonEl.classList.remove('colab-df-spinner');\n",
              "      quickchartButtonEl.classList.add('colab-df-quickchart-complete');\n",
              "    }\n",
              "    (() => {\n",
              "      let quickchartButtonEl =\n",
              "        document.querySelector('#df-7add25e1-829a-4a9f-a0db-807c4b19c835 button');\n",
              "      quickchartButtonEl.style.display =\n",
              "        google.colab.kernel.accessAllowed ? 'block' : 'none';\n",
              "    })();\n",
              "  </script>\n",
              "</div>\n",
              "\n",
              "    </div>\n",
              "  </div>\n"
            ],
            "text/plain": [
              "   Square_Footage  Bedrooms  Bathrooms  House_Age  Floors  Has_Garage  \\\n",
              "0            3974         1          2         12       1           1   \n",
              "1            1660         5          2          2       2           0   \n",
              "2            2094         4          1          7       2           1   \n",
              "3            1930         2          2         80       2           0   \n",
              "4            1895         1          1          3       1           1   \n",
              "\n",
              "   Distance_to_City  Neighborhood_Quality  Property_Tax_Rate  Has_Garden  \\\n",
              "0         12.669782                     5           1.556379           0   \n",
              "1         26.653020                     2           1.434522           1   \n",
              "2         26.971323                     5           0.713424           0   \n",
              "3         27.366083                     1           1.799112           1   \n",
              "4         10.102464                     5           2.235999           1   \n",
              "\n",
              "           Price  \n",
              "0  513995.973670  \n",
              "1  317969.924145  \n",
              "2  377374.067787  \n",
              "3  272919.622631  \n",
              "4  312140.770339  "
            ]
          },
          "execution_count": 2,
          "metadata": {},
          "output_type": "execute_result"
        }
      ],
      "source": [
        "# Set random seed for reproducibility\n",
        "np.random.seed(42)\n",
        "\n",
        "# Number of samples\n",
        "n_samples = 1000\n",
        "\n",
        "# Features for housing data\n",
        "square_footage = np.random.randint(800, 4000, n_samples)  # in square feet\n",
        "bedrooms = np.random.randint(1, 6, n_samples)  # 1 to 5 bedrooms\n",
        "bathrooms = np.random.randint(1, 4, n_samples)  # 1 to 3 bathrooms\n",
        "house_age = np.random.randint(1, 100, n_samples)  # Age of the house in years\n",
        "floors = np.random.randint(1, 3, n_samples)  # 1 or 2 floors\n",
        "has_garage = np.random.choice([0, 1], n_samples)  # 0 or 1 (no garage, has garage)\n",
        "distance_to_city = np.random.uniform(1, 30, n_samples)  # Distance to city center in miles\n",
        "neighborhood_quality = np.random.randint(1, 6, n_samples)  # 1 to 5 scale (low to high)\n",
        "property_tax_rate = np.random.uniform(0.5, 2.5, n_samples)  # Property tax rate in percentage\n",
        "has_garden = np.random.choice([0, 1], n_samples)  # 0 or 1 (no garden, has garden)\n",
        "\n",
        "# Target variable (price) based on a combination of features\n",
        "price = (square_footage * 100) + (bedrooms * 15000) + (bathrooms * 10000) + \\\n",
        "        (house_age * -200) + (floors * 20000) + (has_garage * 25000) + \\\n",
        "        (distance_to_city * -500) + (neighborhood_quality * 10000) + \\\n",
        "        (property_tax_rate * -3000) + (has_garden * 15000)\n",
        "\n",
        "# Create DataFrame for features\n",
        "df_features = pd.DataFrame({\n",
        "    'Square_Footage': square_footage,\n",
        "    'Bedrooms': bedrooms,\n",
        "    'Bathrooms': bathrooms,\n",
        "    'House_Age': house_age,\n",
        "    'Floors': floors,\n",
        "    'Has_Garage': has_garage,\n",
        "    'Distance_to_City': distance_to_city,\n",
        "    'Neighborhood_Quality': neighborhood_quality,\n",
        "    'Property_Tax_Rate': property_tax_rate,\n",
        "    'Has_Garden': has_garden\n",
        "})\n",
        "\n",
        "# Create DataFrame for target variable\n",
        "df_target = pd.DataFrame(price, columns=['Price'])\n",
        "\n",
        "# Combine features and target into one dataset\n",
        "df_housing = pd.concat([df_features, df_target], axis=1)\n",
        "\n",
        "df_housing.head()\n"
      ]
    },
    {
      "cell_type": "markdown",
      "metadata": {
        "id": "Q9K3fxduXCBz"
      },
      "source": [
        "##Creating Features and Target Variable data frames"
      ]
    },
    {
      "cell_type": "code",
      "execution_count": null,
      "metadata": {
        "id": "OKfo-vgMXJ5h"
      },
      "outputs": [],
      "source": [
        "X = df_housing.drop('Price', axis=1)\n",
        "y = df_housing['Price']"
      ]
    },
    {
      "cell_type": "markdown",
      "metadata": {
        "id": "M4tyYBZ-bKBT"
      },
      "source": [
        "##Feature Engineering (Scaling/Encoding)\n",
        "\n",
        "1.   Min/Max or Standardize scaling for numerical features\n",
        "2.   Encoding for categorical feature (In this case target variable)\n",
        "\n"
      ]
    },
    {
      "cell_type": "code",
      "execution_count": null,
      "metadata": {
        "colab": {
          "base_uri": "https://localhost:8080/"
        },
        "id": "mZ7hYCH8dqjo",
        "outputId": "12e2fe76-6eb5-4799-fdca-9f9741baed00"
      },
      "outputs": [
        {
          "name": "stdout",
          "output_type": "stream",
          "text": [
            "<class 'pandas.core.frame.DataFrame'>\n",
            "RangeIndex: 1000 entries, 0 to 999\n",
            "Data columns (total 10 columns):\n",
            " #   Column                Non-Null Count  Dtype  \n",
            "---  ------                --------------  -----  \n",
            " 0   Square_Footage        1000 non-null   int64  \n",
            " 1   Bedrooms              1000 non-null   int64  \n",
            " 2   Bathrooms             1000 non-null   int64  \n",
            " 3   House_Age             1000 non-null   int64  \n",
            " 4   Floors                1000 non-null   int64  \n",
            " 5   Has_Garage            1000 non-null   int64  \n",
            " 6   Distance_to_City      1000 non-null   float64\n",
            " 7   Neighborhood_Quality  1000 non-null   int64  \n",
            " 8   Property_Tax_Rate     1000 non-null   float64\n",
            " 9   Has_Garden            1000 non-null   int64  \n",
            "dtypes: float64(2), int64(8)\n",
            "memory usage: 78.2 KB\n"
          ]
        }
      ],
      "source": [
        "X.info()"
      ]
    },
    {
      "cell_type": "code",
      "execution_count": null,
      "metadata": {
        "colab": {
          "base_uri": "https://localhost:8080/"
        },
        "id": "Q012EjfiXdOZ",
        "outputId": "b9a73885-8a63-4ef9-9073-418150cac00e"
      },
      "outputs": [
        {
          "name": "stdout",
          "output_type": "stream",
          "text": [
            "<class 'pandas.core.series.Series'>\n",
            "RangeIndex: 1000 entries, 0 to 999\n",
            "Series name: Price\n",
            "Non-Null Count  Dtype  \n",
            "--------------  -----  \n",
            "1000 non-null   float64\n",
            "dtypes: float64(1)\n",
            "memory usage: 7.9 KB\n"
          ]
        }
      ],
      "source": [
        "y.info()"
      ]
    },
    {
      "cell_type": "code",
      "execution_count": null,
      "metadata": {
        "id": "X4iqMjicXytR"
      },
      "outputs": [],
      "source": [
        "#scale numerical features\n",
        "scaler_x = MinMaxScaler()\n",
        "X_scaled = scaler_x.fit_transform(X)"
      ]
    },
    {
      "cell_type": "code",
      "execution_count": null,
      "metadata": {
        "id": "DBuUrC70X2ud"
      },
      "outputs": [],
      "source": [
        "#scale target variable\n",
        "scaler_y = MinMaxScaler()\n",
        "y_scaled = scaler_y.fit_transform(y.values.reshape(-1, 1))"
      ]
    },
    {
      "cell_type": "markdown",
      "metadata": {
        "id": "TpaZObLCJ-NJ"
      },
      "source": [
        "## Visulaize Correlation"
      ]
    },
    {
      "cell_type": "code",
      "execution_count": null,
      "metadata": {
        "colab": {
          "base_uri": "https://localhost:8080/",
          "height": 593
        },
        "id": "WSl3MDzQKFlr",
        "outputId": "008af65b-fb97-48c4-cb3b-234fa788b04d"
      },
      "outputs": [
        {
          "data": {
            "text/plain": [
              "<Axes: >"
            ]
          },
          "execution_count": 8,
          "metadata": {},
          "output_type": "execute_result"
        },
        {
          "data": {
            "image/png": "[encoded data removed]",
            "text/plain": [
              "<Figure size 640x480 with 2 Axes>"
            ]
          },
          "metadata": {},
          "output_type": "display_data"
        }
      ],
      "source": [
        "#plot correlation of features\n",
        "sns.heatmap(df_housing.corr(), annot=True, fmt=\".2f\", cmap='coolwarm', linewidths=0.5, vmin=-1, vmax=1)"
      ]
    },
    {
      "cell_type": "markdown",
      "metadata": {
        "id": "TszVCWNAgW_b"
      },
      "source": [
        "##Spliting data into training and testing"
      ]
    },
    {
      "cell_type": "code",
      "execution_count": null,
      "metadata": {
        "id": "GhygDBbVgcZJ"
      },
      "outputs": [],
      "source": [
        "#split data into training and testing\n",
        "X_train, X_test, y_train, y_test = train_test_split(X_scaled,y_scaled, test_size=0.2, random_state=42)"
      ]
    },
    {
      "cell_type": "markdown",
      "metadata": {
        "id": "CKXrd_UNLEb4"
      },
      "source": [
        "## Apply Regression"
      ]
    },
    {
      "cell_type": "markdown",
      "metadata": {
        "id": "BWJ2Sf9ORhc7"
      },
      "source": [
        "### Linear Regression"
      ]
    },
    {
      "cell_type": "code",
      "execution_count": null,
      "metadata": {
        "id": "LCO17mvNRlph"
      },
      "outputs": [],
      "source": [
        "# Linear Regression\n",
        "lin_reg = LinearRegression()\n",
        "lin_reg.fit(X_train, y_train)\n",
        "y_pred_lin = lin_reg.predict(X_test)"
      ]
    },
    {
      "cell_type": "code",
      "execution_count": null,
      "metadata": {
        "colab": {
          "base_uri": "https://localhost:8080/"
        },
        "id": "So1-oWNcTEue",
        "outputId": "d482536d-1568-4755-d3c8-ad7f8fff9981"
      },
      "outputs": [
        {
          "name": "stdout",
          "output_type": "stream",
          "text": [
            "Linear Regression Equation:\n",
            "y = -0.01 + (0.72) * x1 + (0.14) * x2 + (0.05) * x3 + (-0.04) * x4 + (0.05) * x5 + (0.06) * x6 + (-0.03) * x7 + (0.09) * x8 + (-0.01) * x9 + (0.03) * x10\n"
          ]
        }
      ],
      "source": [
        "# Extract coefficients and intercept\n",
        "intercept = lin_reg.intercept_\n",
        "coefficients = lin_reg.coef_\n",
        "\n",
        "# Display the equation\n",
        "equation = f\"y = {intercept[0]:.2f}\"\n",
        "for i, coef in enumerate(coefficients[0]):\n",
        "    equation += f\" + ({coef:.2f}) * x{i+1}\"\n",
        "\n",
        "print(\"Linear Regression Equation:\")\n",
        "print(equation)"
      ]
    },
    {
      "cell_type": "code",
      "execution_count": null,
      "metadata": {
        "id": "Fh1u_LlGbOJu"
      },
      "outputs": [],
      "source": [
        "#inverse predicted values\n",
        "y_pred_lin_inv = scaler_y.inverse_transform(y_pred_lin)\n",
        "y_test_inv = scaler_y.inverse_transform(y_test)"
      ]
    },
    {
      "cell_type": "code",
      "execution_count": null,
      "metadata": {
        "id": "Tu2aGXbMRo77"
      },
      "outputs": [],
      "source": [
        "#evaluate the model\n",
        "mse_lin = mean_squared_error(y_test_inv, y_pred_lin_inv)\n",
        "rmse_lin = np.sqrt(mse_lin)\n",
        "r2_lin = r2_score(y_test_inv, y_pred_lin_inv)"
      ]
    },
    {
      "cell_type": "code",
      "execution_count": null,
      "metadata": {
        "colab": {
          "base_uri": "https://localhost:8080/"
        },
        "id": "BT1QwbGhRy4J",
        "outputId": "5b455e25-74a0-4da9-c628-a1277da5e0d5"
      },
      "outputs": [
        {
          "name": "stdout",
          "output_type": "stream",
          "text": [
            "Linear Regression - MSE: 2.8553480651942465e-20, R^2 Score: 1.0, RMSE: 1.6897775194368773e-10\n"
          ]
        }
      ],
      "source": [
        "#generate report\n",
        "print(f\"Linear Regression - MSE: {mse_lin}, R^2 Score: {r2_lin}, RMSE: {rmse_lin}\")"
      ]
    },
    {
      "cell_type": "code",
      "execution_count": null,
      "metadata": {
        "colab": {
          "base_uri": "https://localhost:8080/",
          "height": 206
        },
        "id": "wl7mOvCsSatb",
        "outputId": "4c5f07a8-8bac-4804-f397-46cc6fd78e6b"
      },
      "outputs": [
        {
          "data": {
            "application/vnd.google.colaboratory.intrinsic+json": {
              "summary": "{\n  \"name\": \"df_pred_lin\",\n  \"rows\": 200,\n  \"fields\": [\n    {\n      \"column\": \"Actual\",\n      \"properties\": {\n        \"dtype\": \"number\",\n        \"std\": 87329.89312831484,\n        \"min\": 182507.1651706191,\n        \"max\": 542630.9152299282,\n        \"num_unique_values\": 200,\n        \"samples\": [\n          295133.55409329396,\n          305852.98457601113,\n          256905.31208975893\n        ],\n        \"semantic_type\": \"\",\n        \"description\": \"\"\n      }\n    },\n    {\n      \"column\": \"Predicted_Linear\",\n      \"properties\": {\n        \"dtype\": \"number\",\n        \"std\": 87329.89312831493,\n        \"min\": 182507.16517061906,\n        \"max\": 542630.9152299284,\n        \"num_unique_values\": 200,\n        \"samples\": [\n          295133.55409329396,\n          305852.9845760112,\n          256905.31208975895\n        ],\n        \"semantic_type\": \"\",\n        \"description\": \"\"\n      }\n    }\n  ]\n}",
              "type": "dataframe",
              "variable_name": "df_pred_lin"
            },
            "text/html": [
              "\n",
              "  <div id=\"df-0a77390a-6199-4f29-b8e5-ae272bdfb24f\" class=\"colab-df-container\">\n",
              "    <div>\n",
              "<style scoped>\n",
              "    .dataframe tbody tr th:only-of-type {\n",
              "        vertical-align: middle;\n",
              "    }\n",
              "\n",
              "    .dataframe tbody tr th {\n",
              "        vertical-align: top;\n",
              "    }\n",
              "\n",
              "    .dataframe thead th {\n",
              "        text-align: right;\n",
              "    }\n",
              "</style>\n",
              "<table border=\"1\" class=\"dataframe\">\n",
              "  <thead>\n",
              "    <tr style=\"text-align: right;\">\n",
              "      <th></th>\n",
              "      <th>Actual</th>\n",
              "      <th>Predicted_Linear</th>\n",
              "    </tr>\n",
              "  </thead>\n",
              "  <tbody>\n",
              "    <tr>\n",
              "      <th>0</th>\n",
              "      <td>378671.043433</td>\n",
              "      <td>378671.043433</td>\n",
              "    </tr>\n",
              "    <tr>\n",
              "      <th>1</th>\n",
              "      <td>482020.696070</td>\n",
              "      <td>482020.696070</td>\n",
              "    </tr>\n",
              "    <tr>\n",
              "      <th>2</th>\n",
              "      <td>297024.833418</td>\n",
              "      <td>297024.833418</td>\n",
              "    </tr>\n",
              "    <tr>\n",
              "      <th>3</th>\n",
              "      <td>493703.141160</td>\n",
              "      <td>493703.141160</td>\n",
              "    </tr>\n",
              "    <tr>\n",
              "      <th>4</th>\n",
              "      <td>475344.058842</td>\n",
              "      <td>475344.058842</td>\n",
              "    </tr>\n",
              "  </tbody>\n",
              "</table>\n",
              "</div>\n",
              "    <div class=\"colab-df-buttons\">\n",
              "\n",
              "  <div class=\"colab-df-container\">\n",
              "    <button class=\"colab-df-convert\" onclick=\"convertToInteractive('df-0a77390a-6199-4f29-b8e5-ae272bdfb24f')\"\n",
              "            title=\"Convert this dataframe to an interactive table.\"\n",
              "            style=\"display:none;\">\n",
              "\n",
              "  <svg xmlns=\"http://www.w3.org/2000/svg\" height=\"24px\" viewBox=\"0 -960 960 960\">\n",
              "    <path d=\"M120-120v-720h720v720H120Zm60-500h600v-160H180v160Zm220 220h160v-160H400v160Zm0 220h160v-160H400v160ZM180-400h160v-160H180v160Zm440 0h160v-160H620v160ZM180-180h160v-160H180v160Zm440 0h160v-160H620v160Z\"/>\n",
              "  </svg>\n",
              "    </button>\n",
              "\n",
              "  <style>\n",
              "    .colab-df-container {\n",
              "      display:flex;\n",
              "      gap: 12px;\n",
              "    }\n",
              "\n",
              "    .colab-df-convert {\n",
              "      background-color: #E8F0FE;\n",
              "      border: none;\n",
              "      border-radius: 50%;\n",
              "      cursor: pointer;\n",
              "      display: none;\n",
              "      fill: #1967D2;\n",
              "      height: 32px;\n",
              "      padding: 0 0 0 0;\n",
              "      width: 32px;\n",
              "    }\n",
              "\n",
              "    .colab-df-convert:hover {\n",
              "      background-color: #E2EBFA;\n",
              "      box-shadow: 0px 1px 2px rgba(60, 64, 67, 0.3), 0px 1px 3px 1px rgba(60, 64, 67, 0.15);\n",
              "      fill: #174EA6;\n",
              "    }\n",
              "\n",
              "    .colab-df-buttons div {\n",
              "      margin-bottom: 4px;\n",
              "    }\n",
              "\n",
              "    [theme=dark] .colab-df-convert {\n",
              "      background-color: #3B4455;\n",
              "      fill: #D2E3FC;\n",
              "    }\n",
              "\n",
              "    [theme=dark] .colab-df-convert:hover {\n",
              "      background-color: #434B5C;\n",
              "      box-shadow: 0px 1px 3px 1px rgba(0, 0, 0, 0.15);\n",
              "      filter: drop-shadow(0px 1px 2px rgba(0, 0, 0, 0.3));\n",
              "      fill: #FFFFFF;\n",
              "    }\n",
              "  </style>\n",
              "\n",
              "    <script>\n",
              "      const buttonEl =\n",
              "        document.querySelector('#df-0a77390a-6199-4f29-b8e5-ae272bdfb24f button.colab-df-convert');\n",
              "      buttonEl.style.display =\n",
              "        google.colab.kernel.accessAllowed ? 'block' : 'none';\n",
              "\n",
              "      async function convertToInteractive(key) {\n",
              "        const element = document.querySelector('#df-0a77390a-6199-4f29-b8e5-ae272bdfb24f');\n",
              "        const dataTable =\n",
              "          await google.colab.kernel.invokeFunction('convertToInteractive',\n",
              "                                                    [key], {});\n",
              "        if (!dataTable) return;\n",
              "\n",
              "        const docLinkHtml = 'Like what you see? Visit the ' +\n",
              "          '<a target=\"_blank\" href=https://colab.research.google.com/notebooks/data_table.ipynb>data table notebook</a>'\n",
              "          + ' to learn more about interactive tables.';\n",
              "        element.innerHTML = '';\n",
              "        dataTable['output_type'] = 'display_data';\n",
              "        await google.colab.output.renderOutput(dataTable, element);\n",
              "        const docLink = document.createElement('div');\n",
              "        docLink.innerHTML = docLinkHtml;\n",
              "        element.appendChild(docLink);\n",
              "      }\n",
              "    </script>\n",
              "  </div>\n",
              "\n",
              "\n",
              "<div id=\"df-0e0249ca-7b85-47e3-8584-1cbdc0def6b6\">\n",
              "  <button class=\"colab-df-quickchart\" onclick=\"quickchart('df-0e0249ca-7b85-47e3-8584-1cbdc0def6b6')\"\n",
              "            title=\"Suggest charts\"\n",
              "            style=\"display:none;\">\n",
              "\n",
              "<svg xmlns=\"http://www.w3.org/2000/svg\" height=\"24px\"viewBox=\"0 0 24 24\"\n",
              "     width=\"24px\">\n",
              "    <g>\n",
              "        <path d=\"M19 3H5c-1.1 0-2 .9-2 2v14c0 1.1.9 2 2 2h14c1.1 0 2-.9 2-2V5c0-1.1-.9-2-2-2zM9 17H7v-7h2v7zm4 0h-2V7h2v10zm4 0h-2v-4h2v4z\"/>\n",
              "    </g>\n",
              "</svg>\n",
              "  </button>\n",
              "\n",
              "<style>\n",
              "  .colab-df-quickchart {\n",
              "      --bg-color: #E8F0FE;\n",
              "      --fill-color: #1967D2;\n",
              "      --hover-bg-color: #E2EBFA;\n",
              "      --hover-fill-color: #174EA6;\n",
              "      --disabled-fill-color: #AAA;\n",
              "      --disabled-bg-color: #DDD;\n",
              "  }\n",
              "\n",
              "  [theme=dark] .colab-df-quickchart {\n",
              "      --bg-color: #3B4455;\n",
              "      --fill-color: #D2E3FC;\n",
              "      --hover-bg-color: #434B5C;\n",
              "      --hover-fill-color: #FFFFFF;\n",
              "      --disabled-bg-color: #3B4455;\n",
              "      --disabled-fill-color: #666;\n",
              "  }\n",
              "\n",
              "  .colab-df-quickchart {\n",
              "    background-color: var(--bg-color);\n",
              "    border: none;\n",
              "    border-radius: 50%;\n",
              "    cursor: pointer;\n",
              "    display: none;\n",
              "    fill: var(--fill-color);\n",
              "    height: 32px;\n",
              "    padding: 0;\n",
              "    width: 32px;\n",
              "  }\n",
              "\n",
              "  .colab-df-quickchart:hover {\n",
              "    background-color: var(--hover-bg-color);\n",
              "    box-shadow: 0 1px 2px rgba(60, 64, 67, 0.3), 0 1px 3px 1px rgba(60, 64, 67, 0.15);\n",
              "    fill: var(--button-hover-fill-color);\n",
              "  }\n",
              "\n",
              "  .colab-df-quickchart-complete:disabled,\n",
              "  .colab-df-quickchart-complete:disabled:hover {\n",
              "    background-color: var(--disabled-bg-color);\n",
              "    fill: var(--disabled-fill-color);\n",
              "    box-shadow: none;\n",
              "  }\n",
              "\n",
              "  .colab-df-spinner {\n",
              "    border: 2px solid var(--fill-color);\n",
              "    border-color: transparent;\n",
              "    border-bottom-color: var(--fill-color);\n",
              "    animation:\n",
              "      spin 1s steps(1) infinite;\n",
              "  }\n",
              "\n",
              "  @keyframes spin {\n",
              "    0% {\n",
              "      border-color: transparent;\n",
              "      border-bottom-color: var(--fill-color);\n",
              "      border-left-color: var(--fill-color);\n",
              "    }\n",
              "    20% {\n",
              "      border-color: transparent;\n",
              "      border-left-color: var(--fill-color);\n",
              "      border-top-color: var(--fill-color);\n",
              "    }\n",
              "    30% {\n",
              "      border-color: transparent;\n",
              "      border-left-color: var(--fill-color);\n",
              "      border-top-color: var(--fill-color);\n",
              "      border-right-color: var(--fill-color);\n",
              "    }\n",
              "    40% {\n",
              "      border-color: transparent;\n",
              "      border-right-color: var(--fill-color);\n",
              "      border-top-color: var(--fill-color);\n",
              "    }\n",
              "    60% {\n",
              "      border-color: transparent;\n",
              "      border-right-color: var(--fill-color);\n",
              "    }\n",
              "    80% {\n",
              "      border-color: transparent;\n",
              "      border-right-color: var(--fill-color);\n",
              "      border-bottom-color: var(--fill-color);\n",
              "    }\n",
              "    90% {\n",
              "      border-color: transparent;\n",
              "      border-bottom-color: var(--fill-color);\n",
              "    }\n",
              "  }\n",
              "</style>\n",
              "\n",
              "  <script>\n",
              "    async function quickchart(key) {\n",
              "      const quickchartButtonEl =\n",
              "        document.querySelector('#' + key + ' button');\n",
              "      quickchartButtonEl.disabled = true;  // To prevent multiple clicks.\n",
              "      quickchartButtonEl.classList.add('colab-df-spinner');\n",
              "      try {\n",
              "        const charts = await google.colab.kernel.invokeFunction(\n",
              "            'suggestCharts', [key], {});\n",
              "      } catch (error) {\n",
              "        console.error('Error during call to suggestCharts:', error);\n",
              "      }\n",
              "      quickchartButtonEl.classList.remove('colab-df-spinner');\n",
              "      quickchartButtonEl.classList.add('colab-df-quickchart-complete');\n",
              "    }\n",
              "    (() => {\n",
              "      let quickchartButtonEl =\n",
              "        document.querySelector('#df-0e0249ca-7b85-47e3-8584-1cbdc0def6b6 button');\n",
              "      quickchartButtonEl.style.display =\n",
              "        google.colab.kernel.accessAllowed ? 'block' : 'none';\n",
              "    })();\n",
              "  </script>\n",
              "</div>\n",
              "\n",
              "    </div>\n",
              "  </div>\n"
            ],
            "text/plain": [
              "          Actual  Predicted_Linear\n",
              "0  378671.043433     378671.043433\n",
              "1  482020.696070     482020.696070\n",
              "2  297024.833418     297024.833418\n",
              "3  493703.141160     493703.141160\n",
              "4  475344.058842     475344.058842"
            ]
          },
          "execution_count": 15,
          "metadata": {},
          "output_type": "execute_result"
        }
      ],
      "source": [
        "#create predicted vs actual price dataframe\n",
        "df_pred_lin= pd.DataFrame({'Actual': y_test_inv.flatten(), 'Predicted_Linear': y_pred_lin_inv.flatten()})\n",
        "df_pred_lin.head()"
      ]
    },
    {
      "cell_type": "code",
      "execution_count": null,
      "metadata": {
        "colab": {
          "base_uri": "https://localhost:8080/",
          "height": 542
        },
        "id": "HmhtPYttSuxY",
        "outputId": "64867260-539f-4301-b2bb-039b182a7925"
      },
      "outputs": [
        {
          "data": {
            "text/html": [
              "<html>\n",
              "<head><meta charset=\"utf-8\" /></head>\n",
              "<body>\n",
              "    <div>            <script src=\"https://cdnjs.cloudflare.com/ajax/libs/mathjax/2.7.5/MathJax.js?config=TeX-AMS-MML_SVG\"></script><script type=\"text/javascript\">if (window.MathJax && window.MathJax.Hub && window.MathJax.Hub.Config) {window.MathJax.Hub.Config({SVG: {font: \"STIX-Web\"}});}</script>                <script type=\"text/javascript\">window.PlotlyConfig = {MathJaxConfig: 'local'};</script>\n",
              "        <script charset=\"utf-8\" src=\"https://cdn.plot.ly/plotly-2.35.2.min.js\"></script>                <div id=\"6b8b6ce1-07d0-4402-9e87-e9e2a6698ccb\" class=\"plotly-graph-div\" style=\"height:525px; width:100%;\"></div>            <script type=\"text/javascript\">                                    window.PLOTLYENV=window.PLOTLYENV || {};                                    if (document.getElementById(\"6b8b6ce1-07d0-4402-9e87-e9e2a6698ccb\")) {                    Plotly.newPlot(                        \"6b8b6ce1-07d0-4402-9e87-e9e2a6698ccb\",                        [{\"hovertemplate\":\"variable=Actual\\u003cbr\\u003eindex=%{x}\\u003cbr\\u003evalue=%{y}\\u003cextra\\u003e\\u003c\\u002fextra\\u003e\",\"legendgroup\":\"Actual\",\"line\":{\"color\":\"#636efa\",\"dash\":\"solid\"},\"marker\":{\"symbol\":\"circle\"},\"mode\":\"lines+markers\",\"name\":\"Actual\",\"orientation\":\"v\",\"showlegend\":true,\"x\":[0,1,2,3,4,5,6,7,8,9,10,11,12,13,14,15,16,17,18,19,20,21,22,23,24,25,26,27,28,29,30,31,32,33,34,35,36,37,38,39,40,41,42,43,44,45,46,47,48,49,50,51,52,53,54,55,56,57,58,59,60,61,62,63,64,65,66,67,68,69,70,71,72,73,74,75,76,77,78,79,80,81,82,83,84,85,86,87,88,89,90,91,92,93,94,95,96,97,98,99,100,101,102,103,104,105,106,107,108,109,110,111,112,113,114,115,116,117,118,119,120,121,122,123,124,125,126,127,128,129,130,131,132,133,134,135,136,137,138,139,140,141,142,143,144,145,146,147,148,149,150,151,152,153,154,155,156,157,158,159,160,161,162,163,164,165,166,167,168,169,170,171,172,173,174,175,176,177,178,179,180,181,182,183,184,185,186,187,188,189,190,191,192,193,194,195,196,197,198,199],\"xaxis\":\"x\",\"y\":[378671.04343312036,482020.6960696785,297024.83341824345,493703.1411599225,475344.05884161557,350844.124794163,447052.25942149706,350590.8574376513,223272.02338353728,250202.53790522975,443285.81093872467,333540.8337914506,271396.8822796638,258909.2840416677,436778.02462155797,305852.98457601113,430627.13073550194,305683.40616489016,223279.54976207818,348150.5884354904,231268.11082680646,527024.8790846443,305749.18056364445,420501.08810409927,356652.3697483816,417905.5245368979,210313.44056796512,333957.2716178211,421509.1262530739,363093.2553209855,256905.31208975893,372687.4705432052,230508.87035486,316111.4453626853,221799.5959628155,326432.67501130264,383762.04862549197,364498.5829744428,235674.3505909945,538065.9070872534,329185.280407238,280456.83531692467,364960.95540665195,235765.42459261444,450552.9833439736,182507.1651706191,385289.3688104431,337332.8921082931,341412.4031111919,486861.7293479092,318345.48792727164,526749.1026884527,388295.75998632034,451926.6300046576,266228.9774377636,483054.786311143,293540.60670780047,288020.7392142377,448371.35065607197,289727.0806839754,515859.3937641741,403231.9348255483,487582.1395112667,478635.6702651516,365044.55227457307,435551.1600613362,466167.3277783599,389437.59895148204,530605.6791066619,477157.3283634391,356741.078464696,277122.5064254439,384835.7914869888,391553.89603087574,502064.1806337535,284865.45784422726,325927.7954967421,492277.36989297264,260614.74999896256,451646.24476514553,455194.69064672606,433694.7745213595,406433.1982593443,265538.2455488651,501810.39272016066,352762.57198093703,542630.9152299282,338325.50624814216,292314.62801891204,491701.12977782346,280999.76469231216,240816.01899490194,450871.7819460476,494372.9123009027,482514.0859711022,295133.55409329396,305262.7806645958,223549.68980748768,362866.0186937222,333447.12616601144,482403.90813215723,425989.3620893074,216371.4255103859,403318.62956835516,444574.09441486985,499241.2130065027,418118.1648123981,395307.132885235,374263.728222714,463066.4093090897,400159.90760881436,288319.69508970977,340510.84079132497,367724.70253550337,418350.10374946427,429112.9317597029,413096.6053954768,255960.4978485285,325958.79569912626,411622.28187628335,350157.9343750666,481656.84317429666,310421.76630372554,458558.2709517005,350357.2948329067,384048.39379125286,526901.5187303885,332143.85819541634,445472.73630175146,351537.0172718204,424557.88063827454,414676.92604384036,356899.45279063977,481827.6215233724,449793.50277366943,381802.8660916535,220680.2870445184,484158.64448643825,311496.71562062635,344351.30781659414,335116.371127619,484032.0614328623,246553.00085402507,389192.6591074116,305914.99298014125,380734.9150538701,322512.2127005144,201512.94753212994,237659.7595644988,379400.5248213528,485290.8767357045,217557.78614471358,272299.29691393836,395494.628747633,506289.9701626619,215980.94857734806,405201.7741407058,342656.93111618643,430196.5389089668,488615.8305720506,506953.15648188937,454334.4358269764,334897.49612864567,421522.87774227984,310179.13586615794,353024.7329095732,509891.29967220535,249539.22071116502,391492.742823955,285076.15936421417,338736.8908404192,365624.5067598093,460299.5880584192,370730.47298089665,342252.1299950254,251088.31857255154,321684.9747104389,537112.7649643528,476390.3044962265,274580.3435525404,345900.8362465795,386323.5492277455,393687.4864487829,333143.779094023,271193.310138679,407052.0489099584,414413.7211677971,274541.85833577806,435492.5643147081,327476.16175700934,291466.92715047457,407773.86828052654,315900.60848632775,307267.8748802606,368611.6858922653,442834.6173254054,502496.28396418155,299820.5134874352,428395.4862634641,275970.22694120236],\"yaxis\":\"y\",\"type\":\"scatter\"},{\"hovertemplate\":\"variable=Predicted_Linear\\u003cbr\\u003eindex=%{x}\\u003cbr\\u003evalue=%{y}\\u003cextra\\u003e\\u003c\\u002fextra\\u003e\",\"legendgroup\":\"Predicted_Linear\",\"line\":{\"color\":\"#EF553B\",\"dash\":\"solid\"},\"marker\":{\"symbol\":\"circle\"},\"mode\":\"lines+markers\",\"name\":\"Predicted_Linear\",\"orientation\":\"v\",\"showlegend\":true,\"x\":[0,1,2,3,4,5,6,7,8,9,10,11,12,13,14,15,16,17,18,19,20,21,22,23,24,25,26,27,28,29,30,31,32,33,34,35,36,37,38,39,40,41,42,43,44,45,46,47,48,49,50,51,52,53,54,55,56,57,58,59,60,61,62,63,64,65,66,67,68,69,70,71,72,73,74,75,76,77,78,79,80,81,82,83,84,85,86,87,88,89,90,91,92,93,94,95,96,97,98,99,100,101,102,103,104,105,106,107,108,109,110,111,112,113,114,115,116,117,118,119,120,121,122,123,124,125,126,127,128,129,130,131,132,133,134,135,136,137,138,139,140,141,142,143,144,145,146,147,148,149,150,151,152,153,154,155,156,157,158,159,160,161,162,163,164,165,166,167,168,169,170,171,172,173,174,175,176,177,178,179,180,181,182,183,184,185,186,187,188,189,190,191,192,193,194,195,196,197,198,199],\"xaxis\":\"x\",\"y\":[378671.0434331205,482020.6960696787,297024.83341824356,493703.1411599227,475344.0588416158,350844.1247941631,447052.25942149723,350590.85743765143,223272.02338353722,250202.53790522975,443285.81093872496,333540.8337914506,271396.88227966387,258909.2840416677,436778.0246215581,305852.9845760112,430627.13073550217,305683.4061648902,223279.54976207812,348150.5884354905,231268.11082680646,527024.8790846446,305749.1805636445,420501.0881040995,356652.3697483818,417905.52453689807,210313.44056796507,333957.2716178212,421509.1262530741,363093.25532098557,256905.31208975895,372687.47054320533,230508.87035486006,316111.4453626854,221799.59596281537,326432.6750113028,383762.04862549214,364498.582974443,235674.35059099455,538065.9070872538,329185.2804072381,280456.83531692467,364960.95540665206,235765.42459261444,450552.98334397376,182507.16517061906,385289.3688104432,337332.8921082932,341412.403111192,486861.7293479094,318345.48792727175,526749.102688453,388295.75998632045,451926.63000465767,266228.9774377636,483054.78631114325,293540.6067078006,288020.7392142378,448371.35065607214,289727.0806839755,515859.39376417437,403231.9348255485,487582.13951126713,478635.67026515177,365044.55227457325,435551.1600613364,466167.32777835993,389437.59895148216,530605.6791066623,477157.3283634394,356741.07846469607,277122.50642544386,384835.79148698895,391553.8960308758,502064.1806337538,284865.45784422726,325927.7954967421,492277.3698929729,260614.74999896268,451646.24476514565,455194.6906467261,433694.77452135965,406433.1982593446,265538.2455488651,501810.39272016083,352762.5719809371,542630.9152299284,338325.5062481423,292314.62801891216,491701.12977782363,280999.7646923122,240816.01899490194,450871.78194604773,494372.912300903,482514.08597110223,295133.55409329396,305262.7806645958,223549.68980748768,362866.0186937223,333447.1261660115,482403.90813215764,425989.3620893075,216371.42551038586,403318.6295683553,444574.09441487014,499241.213006503,418118.16481239826,395307.132885235,374263.7282227141,463066.4093090899,400159.90760881454,288319.6950897098,340510.8407913251,367724.7025355035,418350.10374946444,429112.93175970303,413096.6053954769,255960.4978485286,325958.7956991263,411622.2818762836,350157.9343750667,481656.84317429696,310421.7663037256,458558.2709517008,350357.29483290686,384048.39379125304,526901.5187303888,332143.8581954165,445472.7363017517,351537.0172718205,424557.8806382747,414676.9260438405,356899.4527906398,481827.6215233728,449793.5027736698,381802.8660916537,220680.28704451828,484158.6444864383,311496.7156206264,344351.3078165942,335116.37112761906,484032.0614328624,246553.00085402516,389192.65910741175,305914.99298014137,380734.9150538703,322512.21270051453,201512.94753212997,237659.75956449873,379400.52482135297,485290.87673570454,217557.78614471364,272299.2969139384,395494.62874763313,506289.9701626622,215980.948577348,405201.77414070594,342656.9311161866,430196.53890896693,488615.830572051,506953.15648188966,454334.43582697667,334897.49612864567,421522.87774227996,310179.1358661579,353024.73290957336,509891.29967220564,249539.22071116508,391492.7428239552,285076.15936421417,338736.8908404193,365624.5067598094,460299.58805841923,370730.4729808968,342252.1299950255,251088.31857255148,321684.9747104391,537112.7649643532,476390.3044962269,274580.34355254046,345900.83624657965,386323.5492277457,393687.4864487831,333143.7790940231,271193.310138679,407052.0489099585,414413.72116779734,274541.85833577806,435492.5643147083,327476.1617570094,291466.9271504746,407773.8682805266,315900.60848632787,307267.87488026073,368611.6858922654,442834.61732540565,502496.28396418184,299820.51348743524,428395.48626346426,275970.2269412024],\"yaxis\":\"y\",\"type\":\"scatter\"}],                        {\"template\":{\"data\":{\"histogram2dcontour\":[{\"type\":\"histogram2dcontour\",\"colorbar\":{\"outlinewidth\":0,\"ticks\":\"\"},\"colorscale\":[[0.0,\"#0d0887\"],[0.1111111111111111,\"#46039f\"],[0.2222222222222222,\"#7201a8\"],[0.3333333333333333,\"#9c179e\"],[0.4444444444444444,\"#bd3786\"],[0.5555555555555556,\"#d8576b\"],[0.6666666666666666,\"#ed7953\"],[0.7777777777777778,\"#fb9f3a\"],[0.8888888888888888,\"#fdca26\"],[1.0,\"#f0f921\"]]}],\"choropleth\":[{\"type\":\"choropleth\",\"colorbar\":{\"outlinewidth\":0,\"ticks\":\"\"}}],\"histogram2d\":[{\"type\":\"histogram2d\",\"colorbar\":{\"outlinewidth\":0,\"ticks\":\"\"},\"colorscale\":[[0.0,\"#0d0887\"],[0.1111111111111111,\"#46039f\"],[0.2222222222222222,\"#7201a8\"],[0.3333333333333333,\"#9c179e\"],[0.4444444444444444,\"#bd3786\"],[0.5555555555555556,\"#d8576b\"],[0.6666666666666666,\"#ed7953\"],[0.7777777777777778,\"#fb9f3a\"],[0.8888888888888888,\"#fdca26\"],[1.0,\"#f0f921\"]]}],\"heatmap\":[{\"type\":\"heatmap\",\"colorbar\":{\"outlinewidth\":0,\"ticks\":\"\"},\"colorscale\":[[0.0,\"#0d0887\"],[0.1111111111111111,\"#46039f\"],[0.2222222222222222,\"#7201a8\"],[0.3333333333333333,\"#9c179e\"],[0.4444444444444444,\"#bd3786\"],[0.5555555555555556,\"#d8576b\"],[0.6666666666666666,\"#ed7953\"],[0.7777777777777778,\"#fb9f3a\"],[0.8888888888888888,\"#fdca26\"],[1.0,\"#f0f921\"]]}],\"heatmapgl\":[{\"type\":\"heatmapgl\",\"colorbar\":{\"outlinewidth\":0,\"ticks\":\"\"},\"colorscale\":[[0.0,\"#0d0887\"],[0.1111111111111111,\"#46039f\"],[0.2222222222222222,\"#7201a8\"],[0.3333333333333333,\"#9c179e\"],[0.4444444444444444,\"#bd3786\"],[0.5555555555555556,\"#d8576b\"],[0.6666666666666666,\"#ed7953\"],[0.7777777777777778,\"#fb9f3a\"],[0.8888888888888888,\"#fdca26\"],[1.0,\"#f0f921\"]]}],\"contourcarpet\":[{\"type\":\"contourcarpet\",\"colorbar\":{\"outlinewidth\":0,\"ticks\":\"\"}}],\"contour\":[{\"type\":\"contour\",\"colorbar\":{\"outlinewidth\":0,\"ticks\":\"\"},\"colorscale\":[[0.0,\"#0d0887\"],[0.1111111111111111,\"#46039f\"],[0.2222222222222222,\"#7201a8\"],[0.3333333333333333,\"#9c179e\"],[0.4444444444444444,\"#bd3786\"],[0.5555555555555556,\"#d8576b\"],[0.6666666666666666,\"#ed7953\"],[0.7777777777777778,\"#fb9f3a\"],[0.8888888888888888,\"#fdca26\"],[1.0,\"#f0f921\"]]}],\"surface\":[{\"type\":\"surface\",\"colorbar\":{\"outlinewidth\":0,\"ticks\":\"\"},\"colorscale\":[[0.0,\"#0d0887\"],[0.1111111111111111,\"#46039f\"],[0.2222222222222222,\"#7201a8\"],[0.3333333333333333,\"#9c179e\"],[0.4444444444444444,\"#bd3786\"],[0.5555555555555556,\"#d8576b\"],[0.6666666666666666,\"#ed7953\"],[0.7777777777777778,\"#fb9f3a\"],[0.8888888888888888,\"#fdca26\"],[1.0,\"#f0f921\"]]}],\"mesh3d\":[{\"type\":\"mesh3d\",\"colorbar\":{\"outlinewidth\":0,\"ticks\":\"\"}}],\"scatter\":[{\"fillpattern\":{\"fillmode\":\"overlay\",\"size\":10,\"solidity\":0.2},\"type\":\"scatter\"}],\"parcoords\":[{\"type\":\"parcoords\",\"line\":{\"colorbar\":{\"outlinewidth\":0,\"ticks\":\"\"}}}],\"scatterpolargl\":[{\"type\":\"scatterpolargl\",\"marker\":{\"colorbar\":{\"outlinewidth\":0,\"ticks\":\"\"}}}],\"bar\":[{\"error_x\":{\"color\":\"#2a3f5f\"},\"error_y\":{\"color\":\"#2a3f5f\"},\"marker\":{\"line\":{\"color\":\"#E5ECF6\",\"width\":0.5},\"pattern\":{\"fillmode\":\"overlay\",\"size\":10,\"solidity\":0.2}},\"type\":\"bar\"}],\"scattergeo\":[{\"type\":\"scattergeo\",\"marker\":{\"colorbar\":{\"outlinewidth\":0,\"ticks\":\"\"}}}],\"scatterpolar\":[{\"type\":\"scatterpolar\",\"marker\":{\"colorbar\":{\"outlinewidth\":0,\"ticks\":\"\"}}}],\"histogram\":[{\"marker\":{\"pattern\":{\"fillmode\":\"overlay\",\"size\":10,\"solidity\":0.2}},\"type\":\"histogram\"}],\"scattergl\":[{\"type\":\"scattergl\",\"marker\":{\"colorbar\":{\"outlinewidth\":0,\"ticks\":\"\"}}}],\"scatter3d\":[{\"type\":\"scatter3d\",\"line\":{\"colorbar\":{\"outlinewidth\":0,\"ticks\":\"\"}},\"marker\":{\"colorbar\":{\"outlinewidth\":0,\"ticks\":\"\"}}}],\"scattermapbox\":[{\"type\":\"scattermapbox\",\"marker\":{\"colorbar\":{\"outlinewidth\":0,\"ticks\":\"\"}}}],\"scatterternary\":[{\"type\":\"scatterternary\",\"marker\":{\"colorbar\":{\"outlinewidth\":0,\"ticks\":\"\"}}}],\"scattercarpet\":[{\"type\":\"scattercarpet\",\"marker\":{\"colorbar\":{\"outlinewidth\":0,\"ticks\":\"\"}}}],\"carpet\":[{\"aaxis\":{\"endlinecolor\":\"#2a3f5f\",\"gridcolor\":\"white\",\"linecolor\":\"white\",\"minorgridcolor\":\"white\",\"startlinecolor\":\"#2a3f5f\"},\"baxis\":{\"endlinecolor\":\"#2a3f5f\",\"gridcolor\":\"white\",\"linecolor\":\"white\",\"minorgridcolor\":\"white\",\"startlinecolor\":\"#2a3f5f\"},\"type\":\"carpet\"}],\"table\":[{\"cells\":{\"fill\":{\"color\":\"#EBF0F8\"},\"line\":{\"color\":\"white\"}},\"header\":{\"fill\":{\"color\":\"#C8D4E3\"},\"line\":{\"color\":\"white\"}},\"type\":\"table\"}],\"barpolar\":[{\"marker\":{\"line\":{\"color\":\"#E5ECF6\",\"width\":0.5},\"pattern\":{\"fillmode\":\"overlay\",\"size\":10,\"solidity\":0.2}},\"type\":\"barpolar\"}],\"pie\":[{\"automargin\":true,\"type\":\"pie\"}]},\"layout\":{\"autotypenumbers\":\"strict\",\"colorway\":[\"#636efa\",\"#EF553B\",\"#00cc96\",\"#ab63fa\",\"#FFA15A\",\"#19d3f3\",\"#FF6692\",\"#B6E880\",\"#FF97FF\",\"#FECB52\"],\"font\":{\"color\":\"#2a3f5f\"},\"hovermode\":\"closest\",\"hoverlabel\":{\"align\":\"left\"},\"paper_bgcolor\":\"white\",\"plot_bgcolor\":\"#E5ECF6\",\"polar\":{\"bgcolor\":\"#E5ECF6\",\"angularaxis\":{\"gridcolor\":\"white\",\"linecolor\":\"white\",\"ticks\":\"\"},\"radialaxis\":{\"gridcolor\":\"white\",\"linecolor\":\"white\",\"ticks\":\"\"}},\"ternary\":{\"bgcolor\":\"#E5ECF6\",\"aaxis\":{\"gridcolor\":\"white\",\"linecolor\":\"white\",\"ticks\":\"\"},\"baxis\":{\"gridcolor\":\"white\",\"linecolor\":\"white\",\"ticks\":\"\"},\"caxis\":{\"gridcolor\":\"white\",\"linecolor\":\"white\",\"ticks\":\"\"}},\"coloraxis\":{\"colorbar\":{\"outlinewidth\":0,\"ticks\":\"\"}},\"colorscale\":{\"sequential\":[[0.0,\"#0d0887\"],[0.1111111111111111,\"#46039f\"],[0.2222222222222222,\"#7201a8\"],[0.3333333333333333,\"#9c179e\"],[0.4444444444444444,\"#bd3786\"],[0.5555555555555556,\"#d8576b\"],[0.6666666666666666,\"#ed7953\"],[0.7777777777777778,\"#fb9f3a\"],[0.8888888888888888,\"#fdca26\"],[1.0,\"#f0f921\"]],\"sequentialminus\":[[0.0,\"#0d0887\"],[0.1111111111111111,\"#46039f\"],[0.2222222222222222,\"#7201a8\"],[0.3333333333333333,\"#9c179e\"],[0.4444444444444444,\"#bd3786\"],[0.5555555555555556,\"#d8576b\"],[0.6666666666666666,\"#ed7953\"],[0.7777777777777778,\"#fb9f3a\"],[0.8888888888888888,\"#fdca26\"],[1.0,\"#f0f921\"]],\"diverging\":[[0,\"#8e0152\"],[0.1,\"#c51b7d\"],[0.2,\"#de77ae\"],[0.3,\"#f1b6da\"],[0.4,\"#fde0ef\"],[0.5,\"#f7f7f7\"],[0.6,\"#e6f5d0\"],[0.7,\"#b8e186\"],[0.8,\"#7fbc41\"],[0.9,\"#4d9221\"],[1,\"#276419\"]]},\"xaxis\":{\"gridcolor\":\"white\",\"linecolor\":\"white\",\"ticks\":\"\",\"title\":{\"standoff\":15},\"zerolinecolor\":\"white\",\"automargin\":true,\"zerolinewidth\":2},\"yaxis\":{\"gridcolor\":\"white\",\"linecolor\":\"white\",\"ticks\":\"\",\"title\":{\"standoff\":15},\"zerolinecolor\":\"white\",\"automargin\":true,\"zerolinewidth\":2},\"scene\":{\"xaxis\":{\"backgroundcolor\":\"#E5ECF6\",\"gridcolor\":\"white\",\"linecolor\":\"white\",\"showbackground\":true,\"ticks\":\"\",\"zerolinecolor\":\"white\",\"gridwidth\":2},\"yaxis\":{\"backgroundcolor\":\"#E5ECF6\",\"gridcolor\":\"white\",\"linecolor\":\"white\",\"showbackground\":true,\"ticks\":\"\",\"zerolinecolor\":\"white\",\"gridwidth\":2},\"zaxis\":{\"backgroundcolor\":\"#E5ECF6\",\"gridcolor\":\"white\",\"linecolor\":\"white\",\"showbackground\":true,\"ticks\":\"\",\"zerolinecolor\":\"white\",\"gridwidth\":2}},\"shapedefaults\":{\"line\":{\"color\":\"#2a3f5f\"}},\"annotationdefaults\":{\"arrowcolor\":\"#2a3f5f\",\"arrowhead\":0,\"arrowwidth\":1},\"geo\":{\"bgcolor\":\"white\",\"landcolor\":\"#E5ECF6\",\"subunitcolor\":\"white\",\"showland\":true,\"showlakes\":true,\"lakecolor\":\"white\"},\"title\":{\"x\":0.05},\"mapbox\":{\"style\":\"light\"}}},\"xaxis\":{\"anchor\":\"y\",\"domain\":[0.0,1.0],\"title\":{\"text\":\"index\"}},\"yaxis\":{\"anchor\":\"x\",\"domain\":[0.0,1.0],\"title\":{\"text\":\"value\"}},\"legend\":{\"title\":{\"text\":\"variable\"},\"tracegroupgap\":0},\"title\":{\"text\":\"Comparison of Actual and Predicted Price Using Linear regression\"}},                        {\"responsive\": true}                    ).then(function(){\n",
              "                            \n",
              "var gd = document.getElementById('6b8b6ce1-07d0-4402-9e87-e9e2a6698ccb');\n",
              "var x = new MutationObserver(function (mutations, observer) {{\n",
              "        var display = window.getComputedStyle(gd).display;\n",
              "        if (!display || display === 'none') {{\n",
              "            console.log([gd, 'removed!']);\n",
              "            Plotly.purge(gd);\n",
              "            observer.disconnect();\n",
              "        }}\n",
              "}});\n",
              "\n",
              "// Listen for the removal of the full notebook cells\n",
              "var notebookContainer = gd.closest('#notebook-container');\n",
              "if (notebookContainer) {{\n",
              "    x.observe(notebookContainer, {childList: true});\n",
              "}}\n",
              "\n",
              "// Listen for the clearing of the current output cell\n",
              "var outputEl = gd.closest('.output');\n",
              "if (outputEl) {{\n",
              "    x.observe(outputEl, {childList: true});\n",
              "}}\n",
              "\n",
              "                        })                };                            </script>        </div>\n",
              "</body>\n",
              "</html>"
            ]
          },
          "metadata": {},
          "output_type": "display_data"
        }
      ],
      "source": [
        "# Create the plot\n",
        "fig = px.line(\n",
        "    df_pred_lin,\n",
        "    markers=True,\n",
        "    title=\"Comparison of Actual and Predicted Price Using Linear regression\",\n",
        ")\n",
        "\n",
        "# Show the plot\n",
        "fig.show()"
      ]
    },
    {
      "cell_type": "markdown",
      "metadata": {
        "id": "IdpwPYs7UrUs"
      },
      "source": [
        "### Ridge Regression (L2)"
      ]
    },
    {
      "cell_type": "code",
      "execution_count": null,
      "metadata": {
        "colab": {
          "base_uri": "https://localhost:8080/"
        },
        "id": "i7fLZYR8XO8X",
        "outputId": "a6accc01-c093-4a85-fa32-788748c63c49"
      },
      "outputs": [
        {
          "name": "stdout",
          "output_type": "stream",
          "text": [
            "Best alpha: 0.001\n"
          ]
        }
      ],
      "source": [
        "# Perform Grid Search to tune alpha\n",
        "param_grid = {\"alpha\": [0.001, 0.01, 0.1, 1, 10, 100]}\n",
        "ridge = Ridge()\n",
        "grid_search = GridSearchCV(ridge, param_grid, scoring=\"neg_mean_squared_error\", cv=10)\n",
        "grid_search.fit(X_train, y_train)\n",
        "print(\"Best alpha:\", grid_search.best_params_['alpha'])"
      ]
    },
    {
      "cell_type": "code",
      "execution_count": null,
      "metadata": {
        "id": "VvLi9eIxUyOv"
      },
      "outputs": [],
      "source": [
        "# Ridge Regression\n",
        "ridge_reg = Ridge(alpha=0.001)\n",
        "ridge_reg.fit(X_train, y_train)\n",
        "y_pred_ridge = ridge_reg.predict(X_test)"
      ]
    },
    {
      "cell_type": "code",
      "execution_count": null,
      "metadata": {
        "colab": {
          "base_uri": "https://localhost:8080/"
        },
        "id": "KiJ1vDQ7U15U",
        "outputId": "cb4bb248-5217-4d6d-8654-14ec5a76467d"
      },
      "outputs": [
        {
          "name": "stdout",
          "output_type": "stream",
          "text": [
            "Ridge Regression Equation:\n",
            "y = -0.01 + (0.72) * x1 + (0.14) * x2 + (0.05) * x3 + (-0.04) * x4 + (0.05) * x5 + (0.06) * x6 + (-0.03) * x7 + (0.09) * x8 + (-0.01) * x9 + (0.03) * x10\n"
          ]
        }
      ],
      "source": [
        "# Extract coefficients and intercept\n",
        "intercept = ridge_reg.intercept_\n",
        "coefficients = ridge_reg.coef_\n",
        "\n",
        "# Display the equation\n",
        "equation = f\"y = {intercept[0]:.2f}\"\n",
        "for i, coef in enumerate(coefficients[0]):\n",
        "    equation += f\" + ({coef:.2f}) * x{i+1}\"\n",
        "\n",
        "print(\"Ridge Regression Equation:\")\n",
        "print(equation)"
      ]
    },
    {
      "cell_type": "code",
      "execution_count": null,
      "metadata": {
        "id": "aS_k4VrvcIDQ"
      },
      "outputs": [],
      "source": [
        "#inverse predicted values\n",
        "y_pred_ridge_inv = scaler_y.inverse_transform(y_pred_ridge)\n",
        "y_test_inv = scaler_y.inverse_transform(y_test)"
      ]
    },
    {
      "cell_type": "code",
      "execution_count": null,
      "metadata": {
        "id": "wLPiRlVIVqQ6"
      },
      "outputs": [],
      "source": [
        "#evaluate the model\n",
        "mse_ridge = mean_squared_error(y_test_inv, y_pred_ridge_inv)\n",
        "rmse_ridge = np.sqrt(mse_ridge)\n",
        "r2_ridge = r2_score(y_test_inv, y_pred_ridge_inv)"
      ]
    },
    {
      "cell_type": "code",
      "execution_count": null,
      "metadata": {
        "colab": {
          "base_uri": "https://localhost:8080/"
        },
        "id": "zOl23IyuV6VQ",
        "outputId": "d7b61f2d-762b-43b7-c78e-6ddad5861115"
      },
      "outputs": [
        {
          "name": "stdout",
          "output_type": "stream",
          "text": [
            "Ridge Regression - MSE: 1.574804576282603, Ridge R^2 Score: 0.9999999997924716, Ridge RMSE: 1.2549121787131572\n"
          ]
        }
      ],
      "source": [
        "#generate report\n",
        "print(f\"Ridge Regression - MSE: {mse_ridge}, Ridge R^2 Score: {r2_ridge}, Ridge RMSE: {rmse_ridge}\")"
      ]
    },
    {
      "cell_type": "code",
      "execution_count": null,
      "metadata": {
        "colab": {
          "base_uri": "https://localhost:8080/",
          "height": 206
        },
        "id": "aQcaUDPCWflw",
        "outputId": "6c9f9e41-ffcf-42f9-bc08-b124fab2a40b"
      },
      "outputs": [
        {
          "data": {
            "application/vnd.google.colaboratory.intrinsic+json": {
              "summary": "{\n  \"name\": \"df_pred_ridge\",\n  \"rows\": 200,\n  \"fields\": [\n    {\n      \"column\": \"Actual\",\n      \"properties\": {\n        \"dtype\": \"number\",\n        \"std\": 87329.89312831484,\n        \"min\": 182507.1651706191,\n        \"max\": 542630.9152299282,\n        \"num_unique_values\": 200,\n        \"samples\": [\n          295133.55409329396,\n          305852.98457601113,\n          256905.31208975893\n        ],\n        \"semantic_type\": \"\",\n        \"description\": \"\"\n      }\n    },\n    {\n      \"column\": \"Predicted_Ridge\",\n      \"properties\": {\n        \"dtype\": \"number\",\n        \"std\": 87328.6512974198,\n        \"min\": 182509.57130730984,\n        \"max\": 542628.4791781971,\n        \"num_unique_values\": 200,\n        \"samples\": [\n          295134.5497676671,\n          305854.0269530773,\n          256906.7598124464\n        ],\n        \"semantic_type\": \"\",\n        \"description\": \"\"\n      }\n    }\n  ]\n}",
              "type": "dataframe",
              "variable_name": "df_pred_ridge"
            },
            "text/html": [
              "\n",
              "  <div id=\"df-ebb0213a-f75c-4f52-93e0-a45a68eca26a\" class=\"colab-df-container\">\n",
              "    <div>\n",
              "<style scoped>\n",
              "    .dataframe tbody tr th:only-of-type {\n",
              "        vertical-align: middle;\n",
              "    }\n",
              "\n",
              "    .dataframe tbody tr th {\n",
              "        vertical-align: top;\n",
              "    }\n",
              "\n",
              "    .dataframe thead th {\n",
              "        text-align: right;\n",
              "    }\n",
              "</style>\n",
              "<table border=\"1\" class=\"dataframe\">\n",
              "  <thead>\n",
              "    <tr style=\"text-align: right;\">\n",
              "      <th></th>\n",
              "      <th>Actual</th>\n",
              "      <th>Predicted_Ridge</th>\n",
              "    </tr>\n",
              "  </thead>\n",
              "  <tbody>\n",
              "    <tr>\n",
              "      <th>0</th>\n",
              "      <td>378671.043433</td>\n",
              "      <td>378670.763313</td>\n",
              "    </tr>\n",
              "    <tr>\n",
              "      <th>1</th>\n",
              "      <td>482020.696070</td>\n",
              "      <td>482019.012959</td>\n",
              "    </tr>\n",
              "    <tr>\n",
              "      <th>2</th>\n",
              "      <td>297024.833418</td>\n",
              "      <td>297025.456821</td>\n",
              "    </tr>\n",
              "    <tr>\n",
              "      <th>3</th>\n",
              "      <td>493703.141160</td>\n",
              "      <td>493701.561312</td>\n",
              "    </tr>\n",
              "    <tr>\n",
              "      <th>4</th>\n",
              "      <td>475344.058842</td>\n",
              "      <td>475342.187714</td>\n",
              "    </tr>\n",
              "  </tbody>\n",
              "</table>\n",
              "</div>\n",
              "    <div class=\"colab-df-buttons\">\n",
              "\n",
              "  <div class=\"colab-df-container\">\n",
              "    <button class=\"colab-df-convert\" onclick=\"convertToInteractive('df-ebb0213a-f75c-4f52-93e0-a45a68eca26a')\"\n",
              "            title=\"Convert this dataframe to an interactive table.\"\n",
              "            style=\"display:none;\">\n",
              "\n",
              "  <svg xmlns=\"http://www.w3.org/2000/svg\" height=\"24px\" viewBox=\"0 -960 960 960\">\n",
              "    <path d=\"M120-120v-720h720v720H120Zm60-500h600v-160H180v160Zm220 220h160v-160H400v160Zm0 220h160v-160H400v160ZM180-400h160v-160H180v160Zm440 0h160v-160H620v160ZM180-180h160v-160H180v160Zm440 0h160v-160H620v160Z\"/>\n",
              "  </svg>\n",
              "    </button>\n",
              "\n",
              "  <style>\n",
              "    .colab-df-container {\n",
              "      display:flex;\n",
              "      gap: 12px;\n",
              "    }\n",
              "\n",
              "    .colab-df-convert {\n",
              "      background-color: #E8F0FE;\n",
              "      border: none;\n",
              "      border-radius: 50%;\n",
              "      cursor: pointer;\n",
              "      display: none;\n",
              "      fill: #1967D2;\n",
              "      height: 32px;\n",
              "      padding: 0 0 0 0;\n",
              "      width: 32px;\n",
              "    }\n",
              "\n",
              "    .colab-df-convert:hover {\n",
              "      background-color: #E2EBFA;\n",
              "      box-shadow: 0px 1px 2px rgba(60, 64, 67, 0.3), 0px 1px 3px 1px rgba(60, 64, 67, 0.15);\n",
              "      fill: #174EA6;\n",
              "    }\n",
              "\n",
              "    .colab-df-buttons div {\n",
              "      margin-bottom: 4px;\n",
              "    }\n",
              "\n",
              "    [theme=dark] .colab-df-convert {\n",
              "      background-color: #3B4455;\n",
              "      fill: #D2E3FC;\n",
              "    }\n",
              "\n",
              "    [theme=dark] .colab-df-convert:hover {\n",
              "      background-color: #434B5C;\n",
              "      box-shadow: 0px 1px 3px 1px rgba(0, 0, 0, 0.15);\n",
              "      filter: drop-shadow(0px 1px 2px rgba(0, 0, 0, 0.3));\n",
              "      fill: #FFFFFF;\n",
              "    }\n",
              "  </style>\n",
              "\n",
              "    <script>\n",
              "      const buttonEl =\n",
              "        document.querySelector('#df-ebb0213a-f75c-4f52-93e0-a45a68eca26a button.colab-df-convert');\n",
              "      buttonEl.style.display =\n",
              "        google.colab.kernel.accessAllowed ? 'block' : 'none';\n",
              "\n",
              "      async function convertToInteractive(key) {\n",
              "        const element = document.querySelector('#df-ebb0213a-f75c-4f52-93e0-a45a68eca26a');\n",
              "        const dataTable =\n",
              "          await google.colab.kernel.invokeFunction('convertToInteractive',\n",
              "                                                    [key], {});\n",
              "        if (!dataTable) return;\n",
              "\n",
              "        const docLinkHtml = 'Like what you see? Visit the ' +\n",
              "          '<a target=\"_blank\" href=https://colab.research.google.com/notebooks/data_table.ipynb>data table notebook</a>'\n",
              "          + ' to learn more about interactive tables.';\n",
              "        element.innerHTML = '';\n",
              "        dataTable['output_type'] = 'display_data';\n",
              "        await google.colab.output.renderOutput(dataTable, element);\n",
              "        const docLink = document.createElement('div');\n",
              "        docLink.innerHTML = docLinkHtml;\n",
              "        element.appendChild(docLink);\n",
              "      }\n",
              "    </script>\n",
              "  </div>\n",
              "\n",
              "\n",
              "<div id=\"df-de4b9f75-1ee5-4fb4-be1c-a142ef60b431\">\n",
              "  <button class=\"colab-df-quickchart\" onclick=\"quickchart('df-de4b9f75-1ee5-4fb4-be1c-a142ef60b431')\"\n",
              "            title=\"Suggest charts\"\n",
              "            style=\"display:none;\">\n",
              "\n",
              "<svg xmlns=\"http://www.w3.org/2000/svg\" height=\"24px\"viewBox=\"0 0 24 24\"\n",
              "     width=\"24px\">\n",
              "    <g>\n",
              "        <path d=\"M19 3H5c-1.1 0-2 .9-2 2v14c0 1.1.9 2 2 2h14c1.1 0 2-.9 2-2V5c0-1.1-.9-2-2-2zM9 17H7v-7h2v7zm4 0h-2V7h2v10zm4 0h-2v-4h2v4z\"/>\n",
              "    </g>\n",
              "</svg>\n",
              "  </button>\n",
              "\n",
              "<style>\n",
              "  .colab-df-quickchart {\n",
              "      --bg-color: #E8F0FE;\n",
              "      --fill-color: #1967D2;\n",
              "      --hover-bg-color: #E2EBFA;\n",
              "      --hover-fill-color: #174EA6;\n",
              "      --disabled-fill-color: #AAA;\n",
              "      --disabled-bg-color: #DDD;\n",
              "  }\n",
              "\n",
              "  [theme=dark] .colab-df-quickchart {\n",
              "      --bg-color: #3B4455;\n",
              "      --fill-color: #D2E3FC;\n",
              "      --hover-bg-color: #434B5C;\n",
              "      --hover-fill-color: #FFFFFF;\n",
              "      --disabled-bg-color: #3B4455;\n",
              "      --disabled-fill-color: #666;\n",
              "  }\n",
              "\n",
              "  .colab-df-quickchart {\n",
              "    background-color: var(--bg-color);\n",
              "    border: none;\n",
              "    border-radius: 50%;\n",
              "    cursor: pointer;\n",
              "    display: none;\n",
              "    fill: var(--fill-color);\n",
              "    height: 32px;\n",
              "    padding: 0;\n",
              "    width: 32px;\n",
              "  }\n",
              "\n",
              "  .colab-df-quickchart:hover {\n",
              "    background-color: var(--hover-bg-color);\n",
              "    box-shadow: 0 1px 2px rgba(60, 64, 67, 0.3), 0 1px 3px 1px rgba(60, 64, 67, 0.15);\n",
              "    fill: var(--button-hover-fill-color);\n",
              "  }\n",
              "\n",
              "  .colab-df-quickchart-complete:disabled,\n",
              "  .colab-df-quickchart-complete:disabled:hover {\n",
              "    background-color: var(--disabled-bg-color);\n",
              "    fill: var(--disabled-fill-color);\n",
              "    box-shadow: none;\n",
              "  }\n",
              "\n",
              "  .colab-df-spinner {\n",
              "    border: 2px solid var(--fill-color);\n",
              "    border-color: transparent;\n",
              "    border-bottom-color: var(--fill-color);\n",
              "    animation:\n",
              "      spin 1s steps(1) infinite;\n",
              "  }\n",
              "\n",
              "  @keyframes spin {\n",
              "    0% {\n",
              "      border-color: transparent;\n",
              "      border-bottom-color: var(--fill-color);\n",
              "      border-left-color: var(--fill-color);\n",
              "    }\n",
              "    20% {\n",
              "      border-color: transparent;\n",
              "      border-left-color: var(--fill-color);\n",
              "      border-top-color: var(--fill-color);\n",
              "    }\n",
              "    30% {\n",
              "      border-color: transparent;\n",
              "      border-left-color: var(--fill-color);\n",
              "      border-top-color: var(--fill-color);\n",
              "      border-right-color: var(--fill-color);\n",
              "    }\n",
              "    40% {\n",
              "      border-color: transparent;\n",
              "      border-right-color: var(--fill-color);\n",
              "      border-top-color: var(--fill-color);\n",
              "    }\n",
              "    60% {\n",
              "      border-color: transparent;\n",
              "      border-right-color: var(--fill-color);\n",
              "    }\n",
              "    80% {\n",
              "      border-color: transparent;\n",
              "      border-right-color: var(--fill-color);\n",
              "      border-bottom-color: var(--fill-color);\n",
              "    }\n",
              "    90% {\n",
              "      border-color: transparent;\n",
              "      border-bottom-color: var(--fill-color);\n",
              "    }\n",
              "  }\n",
              "</style>\n",
              "\n",
              "  <script>\n",
              "    async function quickchart(key) {\n",
              "      const quickchartButtonEl =\n",
              "        document.querySelector('#' + key + ' button');\n",
              "      quickchartButtonEl.disabled = true;  // To prevent multiple clicks.\n",
              "      quickchartButtonEl.classList.add('colab-df-spinner');\n",
              "      try {\n",
              "        const charts = await google.colab.kernel.invokeFunction(\n",
              "            'suggestCharts', [key], {});\n",
              "      } catch (error) {\n",
              "        console.error('Error during call to suggestCharts:', error);\n",
              "      }\n",
              "      quickchartButtonEl.classList.remove('colab-df-spinner');\n",
              "      quickchartButtonEl.classList.add('colab-df-quickchart-complete');\n",
              "    }\n",
              "    (() => {\n",
              "      let quickchartButtonEl =\n",
              "        document.querySelector('#df-de4b9f75-1ee5-4fb4-be1c-a142ef60b431 button');\n",
              "      quickchartButtonEl.style.display =\n",
              "        google.colab.kernel.accessAllowed ? 'block' : 'none';\n",
              "    })();\n",
              "  </script>\n",
              "</div>\n",
              "\n",
              "    </div>\n",
              "  </div>\n"
            ],
            "text/plain": [
              "          Actual  Predicted_Ridge\n",
              "0  378671.043433    378670.763313\n",
              "1  482020.696070    482019.012959\n",
              "2  297024.833418    297025.456821\n",
              "3  493703.141160    493701.561312\n",
              "4  475344.058842    475342.187714"
            ]
          },
          "execution_count": 23,
          "metadata": {},
          "output_type": "execute_result"
        }
      ],
      "source": [
        "#create predicted vs actual price dataframe\n",
        "df_pred_ridge= pd.DataFrame({'Actual': y_test_inv.flatten(), 'Predicted_Ridge': y_pred_ridge_inv.flatten()})\n",
        "df_pred_ridge.head()"
      ]
    },
    {
      "cell_type": "code",
      "execution_count": null,
      "metadata": {
        "colab": {
          "base_uri": "https://localhost:8080/",
          "height": 542
        },
        "id": "i1HhOMR4WrKP",
        "outputId": "9965496c-a6ec-46c9-9e2d-f11467e4a479"
      },
      "outputs": [
        {
          "data": {
            "text/html": [
              "<html>\n",
              "<head><meta charset=\"utf-8\" /></head>\n",
              "<body>\n",
              "    <div>            <script src=\"https://cdnjs.cloudflare.com/ajax/libs/mathjax/2.7.5/MathJax.js?config=TeX-AMS-MML_SVG\"></script><script type=\"text/javascript\">if (window.MathJax && window.MathJax.Hub && window.MathJax.Hub.Config) {window.MathJax.Hub.Config({SVG: {font: \"STIX-Web\"}});}</script>                <script type=\"text/javascript\">window.PlotlyConfig = {MathJaxConfig: 'local'};</script>\n",
              "        <script charset=\"utf-8\" src=\"https://cdn.plot.ly/plotly-2.35.2.min.js\"></script>                <div id=\"b5b77fee-218d-4ba0-87f3-677bb7ee1475\" class=\"plotly-graph-div\" style=\"height:525px; width:100%;\"></div>            <script type=\"text/javascript\">                                    window.PLOTLYENV=window.PLOTLYENV || {};                                    if (document.getElementById(\"b5b77fee-218d-4ba0-87f3-677bb7ee1475\")) {                    Plotly.newPlot(                        \"b5b77fee-218d-4ba0-87f3-677bb7ee1475\",                        [{\"hovertemplate\":\"variable=Actual\\u003cbr\\u003eindex=%{x}\\u003cbr\\u003evalue=%{y}\\u003cextra\\u003e\\u003c\\u002fextra\\u003e\",\"legendgroup\":\"Actual\",\"line\":{\"color\":\"#636efa\",\"dash\":\"solid\"},\"marker\":{\"symbol\":\"circle\"},\"mode\":\"lines+markers\",\"name\":\"Actual\",\"orientation\":\"v\",\"showlegend\":true,\"x\":[0,1,2,3,4,5,6,7,8,9,10,11,12,13,14,15,16,17,18,19,20,21,22,23,24,25,26,27,28,29,30,31,32,33,34,35,36,37,38,39,40,41,42,43,44,45,46,47,48,49,50,51,52,53,54,55,56,57,58,59,60,61,62,63,64,65,66,67,68,69,70,71,72,73,74,75,76,77,78,79,80,81,82,83,84,85,86,87,88,89,90,91,92,93,94,95,96,97,98,99,100,101,102,103,104,105,106,107,108,109,110,111,112,113,114,115,116,117,118,119,120,121,122,123,124,125,126,127,128,129,130,131,132,133,134,135,136,137,138,139,140,141,142,143,144,145,146,147,148,149,150,151,152,153,154,155,156,157,158,159,160,161,162,163,164,165,166,167,168,169,170,171,172,173,174,175,176,177,178,179,180,181,182,183,184,185,186,187,188,189,190,191,192,193,194,195,196,197,198,199],\"xaxis\":\"x\",\"y\":[378671.04343312036,482020.6960696785,297024.83341824345,493703.1411599225,475344.05884161557,350844.124794163,447052.25942149706,350590.8574376513,223272.02338353728,250202.53790522975,443285.81093872467,333540.8337914506,271396.8822796638,258909.2840416677,436778.02462155797,305852.98457601113,430627.13073550194,305683.40616489016,223279.54976207818,348150.5884354904,231268.11082680646,527024.8790846443,305749.18056364445,420501.08810409927,356652.3697483816,417905.5245368979,210313.44056796512,333957.2716178211,421509.1262530739,363093.2553209855,256905.31208975893,372687.4705432052,230508.87035486,316111.4453626853,221799.5959628155,326432.67501130264,383762.04862549197,364498.5829744428,235674.3505909945,538065.9070872534,329185.280407238,280456.83531692467,364960.95540665195,235765.42459261444,450552.9833439736,182507.1651706191,385289.3688104431,337332.8921082931,341412.4031111919,486861.7293479092,318345.48792727164,526749.1026884527,388295.75998632034,451926.6300046576,266228.9774377636,483054.786311143,293540.60670780047,288020.7392142377,448371.35065607197,289727.0806839754,515859.3937641741,403231.9348255483,487582.1395112667,478635.6702651516,365044.55227457307,435551.1600613362,466167.3277783599,389437.59895148204,530605.6791066619,477157.3283634391,356741.078464696,277122.5064254439,384835.7914869888,391553.89603087574,502064.1806337535,284865.45784422726,325927.7954967421,492277.36989297264,260614.74999896256,451646.24476514553,455194.69064672606,433694.7745213595,406433.1982593443,265538.2455488651,501810.39272016066,352762.57198093703,542630.9152299282,338325.50624814216,292314.62801891204,491701.12977782346,280999.76469231216,240816.01899490194,450871.7819460476,494372.9123009027,482514.0859711022,295133.55409329396,305262.7806645958,223549.68980748768,362866.0186937222,333447.12616601144,482403.90813215723,425989.3620893074,216371.4255103859,403318.62956835516,444574.09441486985,499241.2130065027,418118.1648123981,395307.132885235,374263.728222714,463066.4093090897,400159.90760881436,288319.69508970977,340510.84079132497,367724.70253550337,418350.10374946427,429112.9317597029,413096.6053954768,255960.4978485285,325958.79569912626,411622.28187628335,350157.9343750666,481656.84317429666,310421.76630372554,458558.2709517005,350357.2948329067,384048.39379125286,526901.5187303885,332143.85819541634,445472.73630175146,351537.0172718204,424557.88063827454,414676.92604384036,356899.45279063977,481827.6215233724,449793.50277366943,381802.8660916535,220680.2870445184,484158.64448643825,311496.71562062635,344351.30781659414,335116.371127619,484032.0614328623,246553.00085402507,389192.6591074116,305914.99298014125,380734.9150538701,322512.2127005144,201512.94753212994,237659.7595644988,379400.5248213528,485290.8767357045,217557.78614471358,272299.29691393836,395494.628747633,506289.9701626619,215980.94857734806,405201.7741407058,342656.93111618643,430196.5389089668,488615.8305720506,506953.15648188937,454334.4358269764,334897.49612864567,421522.87774227984,310179.13586615794,353024.7329095732,509891.29967220535,249539.22071116502,391492.742823955,285076.15936421417,338736.8908404192,365624.5067598093,460299.5880584192,370730.47298089665,342252.1299950254,251088.31857255154,321684.9747104389,537112.7649643528,476390.3044962265,274580.3435525404,345900.8362465795,386323.5492277455,393687.4864487829,333143.779094023,271193.310138679,407052.0489099584,414413.7211677971,274541.85833577806,435492.5643147081,327476.16175700934,291466.92715047457,407773.86828052654,315900.60848632775,307267.8748802606,368611.6858922653,442834.6173254054,502496.28396418155,299820.5134874352,428395.4862634641,275970.22694120236],\"yaxis\":\"y\",\"type\":\"scatter\"},{\"hovertemplate\":\"variable=Predicted_Ridge\\u003cbr\\u003eindex=%{x}\\u003cbr\\u003evalue=%{y}\\u003cextra\\u003e\\u003c\\u002fextra\\u003e\",\"legendgroup\":\"Predicted_Ridge\",\"line\":{\"color\":\"#EF553B\",\"dash\":\"solid\"},\"marker\":{\"symbol\":\"circle\"},\"mode\":\"lines+markers\",\"name\":\"Predicted_Ridge\",\"orientation\":\"v\",\"showlegend\":true,\"x\":[0,1,2,3,4,5,6,7,8,9,10,11,12,13,14,15,16,17,18,19,20,21,22,23,24,25,26,27,28,29,30,31,32,33,34,35,36,37,38,39,40,41,42,43,44,45,46,47,48,49,50,51,52,53,54,55,56,57,58,59,60,61,62,63,64,65,66,67,68,69,70,71,72,73,74,75,76,77,78,79,80,81,82,83,84,85,86,87,88,89,90,91,92,93,94,95,96,97,98,99,100,101,102,103,104,105,106,107,108,109,110,111,112,113,114,115,116,117,118,119,120,121,122,123,124,125,126,127,128,129,130,131,132,133,134,135,136,137,138,139,140,141,142,143,144,145,146,147,148,149,150,151,152,153,154,155,156,157,158,159,160,161,162,163,164,165,166,167,168,169,170,171,172,173,174,175,176,177,178,179,180,181,182,183,184,185,186,187,188,189,190,191,192,193,194,195,196,197,198,199],\"xaxis\":\"x\",\"y\":[378670.7633133533,482019.01295949076,297025.45682056545,493701.5613115705,475342.18771368003,350844.4611087861,447051.103501433,350590.8200222749,223273.82419598085,250203.87015091555,443284.3628111241,333541.4827388808,271398.1073097256,258910.79927067485,436776.8015387193,305854.0269530773,430626.2543164713,305683.942858493,223281.61808072057,348150.769529948,231270.03264518082,527022.4856197485,305750.12201899115,420499.9381446035,356652.4503774265,417904.45189159684,210315.49323608432,333957.76942617074,421508.5032954879,363093.12708715827,256906.7598124464,372687.21248638385,230510.54339166568,316112.27521706384,221801.76287878916,326433.41571890865,383761.683978591,364498.54556128895,235676.19435719994,538063.5806565221,329186.060143691,280457.9379821096,364961.0323245583,235767.09934609506,450551.77255990275,182509.57130730984,385288.9969032489,337332.9181361836,341412.6625752368,486859.9946540699,318346.32287758915,526746.8030680128,388295.51218476344,451925.3562695783,266230.0677151026,483052.9967189195,293541.5651062319,288022.049702748,448369.9606548768,289728.05922116013,515857.1786727014,403231.23574029567,487580.1487067896,478634.20792429865,365044.4776399899,435550.3303213508,466165.872079836,389437.1965200715,530603.2185520809,477155.7727351777,356741.05424117966,277123.83358753653,384835.8069213414,391553.57351481897,502062.0455701336,284866.65984072204,325928.37762489903,492275.3474749201,260616.23908796054,451645.1982603893,455193.54316223395,433693.9705041129,406432.5986744258,265539.6449520809,501808.63894734625,352762.8419947728,542628.4791781971,338325.9685334409,292315.622840861,491699.33545653394,281001.1685458017,240817.60682921135,450870.7592042638,494371.0544736811,482512.23223912687,295134.5497676671,305263.55008654646,223551.90473691653,362866.2085514017,333447.51915785315,482402.0897421032,425988.43164732365,216373.53067267942,403317.8398934544,444572.7301844948,499239.36330835865,418117.18961506576,395306.76283220673,374263.3669491327,463064.97558115365,400159.3285353824,288321.0807683704,340511.3943682846,367724.3661297256,418349.4207798169,429111.9137133631,413095.9675432571,255962.00848188833,325959.344323689,411621.676794044,350158.0174975538,481655.07625254197,310422.57268945384,458556.7025650309,350357.33575688995,384047.88402564614,526899.5301577677,332144.3584208709,445471.5786830366,351537.2457351383,424556.9033489795,414676.1932153666,356899.41201496683,481825.82129599917,449792.54164298833,381802.43027114874,220682.43622530988,484156.9071527244,311497.70007881516,344351.52184002835,335116.70604401134,484030.152714425,246554.75547071104,389192.2299146907,305915.600334386,380734.4558034778,322512.87604312313,201515.06046394742,237661.62118345322,379400.2021042328,485289.22917405027,217559.71592087622,272300.81503013585,395494.0605765226,506288.1364055157,215983.26307766006,405201.15749150986,342657.21122264676,430195.2515901096,488614.3682482292,506951.26969691116,454332.94254438364,334898.0033532381,421522.3032571996,310179.78580625943,353025.0043239255,509889.2223408502,249540.9113772028,391492.39987122413,285077.40178300574,338737.342703442,365624.6272366834,460297.907190854,370730.2406235678,342252.4732688864,251090.11616183902,321685.4308674201,537110.3452161097,476388.4854822556,274581.5221937086,345900.91050150705,386323.14094107813,393687.1884812212,333144.3111242764,271194.709424204,407051.4834422128,414413.11621757474,274543.14088359324,435491.68849580956,327476.6022439804,291467.75740625075,407773.483187441,315901.18671621254,307268.5270398902,368611.63568745094,442833.3855930921,502494.15000761615,299821.3040461491,428394.67606384616,275971.4936611084],\"yaxis\":\"y\",\"type\":\"scatter\"}],                        {\"template\":{\"data\":{\"histogram2dcontour\":[{\"type\":\"histogram2dcontour\",\"colorbar\":{\"outlinewidth\":0,\"ticks\":\"\"},\"colorscale\":[[0.0,\"#0d0887\"],[0.1111111111111111,\"#46039f\"],[0.2222222222222222,\"#7201a8\"],[0.3333333333333333,\"#9c179e\"],[0.4444444444444444,\"#bd3786\"],[0.5555555555555556,\"#d8576b\"],[0.6666666666666666,\"#ed7953\"],[0.7777777777777778,\"#fb9f3a\"],[0.8888888888888888,\"#fdca26\"],[1.0,\"#f0f921\"]]}],\"choropleth\":[{\"type\":\"choropleth\",\"colorbar\":{\"outlinewidth\":0,\"ticks\":\"\"}}],\"histogram2d\":[{\"type\":\"histogram2d\",\"colorbar\":{\"outlinewidth\":0,\"ticks\":\"\"},\"colorscale\":[[0.0,\"#0d0887\"],[0.1111111111111111,\"#46039f\"],[0.2222222222222222,\"#7201a8\"],[0.3333333333333333,\"#9c179e\"],[0.4444444444444444,\"#bd3786\"],[0.5555555555555556,\"#d8576b\"],[0.6666666666666666,\"#ed7953\"],[0.7777777777777778,\"#fb9f3a\"],[0.8888888888888888,\"#fdca26\"],[1.0,\"#f0f921\"]]}],\"heatmap\":[{\"type\":\"heatmap\",\"colorbar\":{\"outlinewidth\":0,\"ticks\":\"\"},\"colorscale\":[[0.0,\"#0d0887\"],[0.1111111111111111,\"#46039f\"],[0.2222222222222222,\"#7201a8\"],[0.3333333333333333,\"#9c179e\"],[0.4444444444444444,\"#bd3786\"],[0.5555555555555556,\"#d8576b\"],[0.6666666666666666,\"#ed7953\"],[0.7777777777777778,\"#fb9f3a\"],[0.8888888888888888,\"#fdca26\"],[1.0,\"#f0f921\"]]}],\"heatmapgl\":[{\"type\":\"heatmapgl\",\"colorbar\":{\"outlinewidth\":0,\"ticks\":\"\"},\"colorscale\":[[0.0,\"#0d0887\"],[0.1111111111111111,\"#46039f\"],[0.2222222222222222,\"#7201a8\"],[0.3333333333333333,\"#9c179e\"],[0.4444444444444444,\"#bd3786\"],[0.5555555555555556,\"#d8576b\"],[0.6666666666666666,\"#ed7953\"],[0.7777777777777778,\"#fb9f3a\"],[0.8888888888888888,\"#fdca26\"],[1.0,\"#f0f921\"]]}],\"contourcarpet\":[{\"type\":\"contourcarpet\",\"colorbar\":{\"outlinewidth\":0,\"ticks\":\"\"}}],\"contour\":[{\"type\":\"contour\",\"colorbar\":{\"outlinewidth\":0,\"ticks\":\"\"},\"colorscale\":[[0.0,\"#0d0887\"],[0.1111111111111111,\"#46039f\"],[0.2222222222222222,\"#7201a8\"],[0.3333333333333333,\"#9c179e\"],[0.4444444444444444,\"#bd3786\"],[0.5555555555555556,\"#d8576b\"],[0.6666666666666666,\"#ed7953\"],[0.7777777777777778,\"#fb9f3a\"],[0.8888888888888888,\"#fdca26\"],[1.0,\"#f0f921\"]]}],\"surface\":[{\"type\":\"surface\",\"colorbar\":{\"outlinewidth\":0,\"ticks\":\"\"},\"colorscale\":[[0.0,\"#0d0887\"],[0.1111111111111111,\"#46039f\"],[0.2222222222222222,\"#7201a8\"],[0.3333333333333333,\"#9c179e\"],[0.4444444444444444,\"#bd3786\"],[0.5555555555555556,\"#d8576b\"],[0.6666666666666666,\"#ed7953\"],[0.7777777777777778,\"#fb9f3a\"],[0.8888888888888888,\"#fdca26\"],[1.0,\"#f0f921\"]]}],\"mesh3d\":[{\"type\":\"mesh3d\",\"colorbar\":{\"outlinewidth\":0,\"ticks\":\"\"}}],\"scatter\":[{\"fillpattern\":{\"fillmode\":\"overlay\",\"size\":10,\"solidity\":0.2},\"type\":\"scatter\"}],\"parcoords\":[{\"type\":\"parcoords\",\"line\":{\"colorbar\":{\"outlinewidth\":0,\"ticks\":\"\"}}}],\"scatterpolargl\":[{\"type\":\"scatterpolargl\",\"marker\":{\"colorbar\":{\"outlinewidth\":0,\"ticks\":\"\"}}}],\"bar\":[{\"error_x\":{\"color\":\"#2a3f5f\"},\"error_y\":{\"color\":\"#2a3f5f\"},\"marker\":{\"line\":{\"color\":\"#E5ECF6\",\"width\":0.5},\"pattern\":{\"fillmode\":\"overlay\",\"size\":10,\"solidity\":0.2}},\"type\":\"bar\"}],\"scattergeo\":[{\"type\":\"scattergeo\",\"marker\":{\"colorbar\":{\"outlinewidth\":0,\"ticks\":\"\"}}}],\"scatterpolar\":[{\"type\":\"scatterpolar\",\"marker\":{\"colorbar\":{\"outlinewidth\":0,\"ticks\":\"\"}}}],\"histogram\":[{\"marker\":{\"pattern\":{\"fillmode\":\"overlay\",\"size\":10,\"solidity\":0.2}},\"type\":\"histogram\"}],\"scattergl\":[{\"type\":\"scattergl\",\"marker\":{\"colorbar\":{\"outlinewidth\":0,\"ticks\":\"\"}}}],\"scatter3d\":[{\"type\":\"scatter3d\",\"line\":{\"colorbar\":{\"outlinewidth\":0,\"ticks\":\"\"}},\"marker\":{\"colorbar\":{\"outlinewidth\":0,\"ticks\":\"\"}}}],\"scattermapbox\":[{\"type\":\"scattermapbox\",\"marker\":{\"colorbar\":{\"outlinewidth\":0,\"ticks\":\"\"}}}],\"scatterternary\":[{\"type\":\"scatterternary\",\"marker\":{\"colorbar\":{\"outlinewidth\":0,\"ticks\":\"\"}}}],\"scattercarpet\":[{\"type\":\"scattercarpet\",\"marker\":{\"colorbar\":{\"outlinewidth\":0,\"ticks\":\"\"}}}],\"carpet\":[{\"aaxis\":{\"endlinecolor\":\"#2a3f5f\",\"gridcolor\":\"white\",\"linecolor\":\"white\",\"minorgridcolor\":\"white\",\"startlinecolor\":\"#2a3f5f\"},\"baxis\":{\"endlinecolor\":\"#2a3f5f\",\"gridcolor\":\"white\",\"linecolor\":\"white\",\"minorgridcolor\":\"white\",\"startlinecolor\":\"#2a3f5f\"},\"type\":\"carpet\"}],\"table\":[{\"cells\":{\"fill\":{\"color\":\"#EBF0F8\"},\"line\":{\"color\":\"white\"}},\"header\":{\"fill\":{\"color\":\"#C8D4E3\"},\"line\":{\"color\":\"white\"}},\"type\":\"table\"}],\"barpolar\":[{\"marker\":{\"line\":{\"color\":\"#E5ECF6\",\"width\":0.5},\"pattern\":{\"fillmode\":\"overlay\",\"size\":10,\"solidity\":0.2}},\"type\":\"barpolar\"}],\"pie\":[{\"automargin\":true,\"type\":\"pie\"}]},\"layout\":{\"autotypenumbers\":\"strict\",\"colorway\":[\"#636efa\",\"#EF553B\",\"#00cc96\",\"#ab63fa\",\"#FFA15A\",\"#19d3f3\",\"#FF6692\",\"#B6E880\",\"#FF97FF\",\"#FECB52\"],\"font\":{\"color\":\"#2a3f5f\"},\"hovermode\":\"closest\",\"hoverlabel\":{\"align\":\"left\"},\"paper_bgcolor\":\"white\",\"plot_bgcolor\":\"#E5ECF6\",\"polar\":{\"bgcolor\":\"#E5ECF6\",\"angularaxis\":{\"gridcolor\":\"white\",\"linecolor\":\"white\",\"ticks\":\"\"},\"radialaxis\":{\"gridcolor\":\"white\",\"linecolor\":\"white\",\"ticks\":\"\"}},\"ternary\":{\"bgcolor\":\"#E5ECF6\",\"aaxis\":{\"gridcolor\":\"white\",\"linecolor\":\"white\",\"ticks\":\"\"},\"baxis\":{\"gridcolor\":\"white\",\"linecolor\":\"white\",\"ticks\":\"\"},\"caxis\":{\"gridcolor\":\"white\",\"linecolor\":\"white\",\"ticks\":\"\"}},\"coloraxis\":{\"colorbar\":{\"outlinewidth\":0,\"ticks\":\"\"}},\"colorscale\":{\"sequential\":[[0.0,\"#0d0887\"],[0.1111111111111111,\"#46039f\"],[0.2222222222222222,\"#7201a8\"],[0.3333333333333333,\"#9c179e\"],[0.4444444444444444,\"#bd3786\"],[0.5555555555555556,\"#d8576b\"],[0.6666666666666666,\"#ed7953\"],[0.7777777777777778,\"#fb9f3a\"],[0.8888888888888888,\"#fdca26\"],[1.0,\"#f0f921\"]],\"sequentialminus\":[[0.0,\"#0d0887\"],[0.1111111111111111,\"#46039f\"],[0.2222222222222222,\"#7201a8\"],[0.3333333333333333,\"#9c179e\"],[0.4444444444444444,\"#bd3786\"],[0.5555555555555556,\"#d8576b\"],[0.6666666666666666,\"#ed7953\"],[0.7777777777777778,\"#fb9f3a\"],[0.8888888888888888,\"#fdca26\"],[1.0,\"#f0f921\"]],\"diverging\":[[0,\"#8e0152\"],[0.1,\"#c51b7d\"],[0.2,\"#de77ae\"],[0.3,\"#f1b6da\"],[0.4,\"#fde0ef\"],[0.5,\"#f7f7f7\"],[0.6,\"#e6f5d0\"],[0.7,\"#b8e186\"],[0.8,\"#7fbc41\"],[0.9,\"#4d9221\"],[1,\"#276419\"]]},\"xaxis\":{\"gridcolor\":\"white\",\"linecolor\":\"white\",\"ticks\":\"\",\"title\":{\"standoff\":15},\"zerolinecolor\":\"white\",\"automargin\":true,\"zerolinewidth\":2},\"yaxis\":{\"gridcolor\":\"white\",\"linecolor\":\"white\",\"ticks\":\"\",\"title\":{\"standoff\":15},\"zerolinecolor\":\"white\",\"automargin\":true,\"zerolinewidth\":2},\"scene\":{\"xaxis\":{\"backgroundcolor\":\"#E5ECF6\",\"gridcolor\":\"white\",\"linecolor\":\"white\",\"showbackground\":true,\"ticks\":\"\",\"zerolinecolor\":\"white\",\"gridwidth\":2},\"yaxis\":{\"backgroundcolor\":\"#E5ECF6\",\"gridcolor\":\"white\",\"linecolor\":\"white\",\"showbackground\":true,\"ticks\":\"\",\"zerolinecolor\":\"white\",\"gridwidth\":2},\"zaxis\":{\"backgroundcolor\":\"#E5ECF6\",\"gridcolor\":\"white\",\"linecolor\":\"white\",\"showbackground\":true,\"ticks\":\"\",\"zerolinecolor\":\"white\",\"gridwidth\":2}},\"shapedefaults\":{\"line\":{\"color\":\"#2a3f5f\"}},\"annotationdefaults\":{\"arrowcolor\":\"#2a3f5f\",\"arrowhead\":0,\"arrowwidth\":1},\"geo\":{\"bgcolor\":\"white\",\"landcolor\":\"#E5ECF6\",\"subunitcolor\":\"white\",\"showland\":true,\"showlakes\":true,\"lakecolor\":\"white\"},\"title\":{\"x\":0.05},\"mapbox\":{\"style\":\"light\"}}},\"xaxis\":{\"anchor\":\"y\",\"domain\":[0.0,1.0],\"title\":{\"text\":\"index\"}},\"yaxis\":{\"anchor\":\"x\",\"domain\":[0.0,1.0],\"title\":{\"text\":\"value\"}},\"legend\":{\"title\":{\"text\":\"variable\"},\"tracegroupgap\":0},\"title\":{\"text\":\"Comparison of Actual and Predicted Price Using Ridge regression\"}},                        {\"responsive\": true}                    ).then(function(){\n",
              "                            \n",
              "var gd = document.getElementById('b5b77fee-218d-4ba0-87f3-677bb7ee1475');\n",
              "var x = new MutationObserver(function (mutations, observer) {{\n",
              "        var display = window.getComputedStyle(gd).display;\n",
              "        if (!display || display === 'none') {{\n",
              "            console.log([gd, 'removed!']);\n",
              "            Plotly.purge(gd);\n",
              "            observer.disconnect();\n",
              "        }}\n",
              "}});\n",
              "\n",
              "// Listen for the removal of the full notebook cells\n",
              "var notebookContainer = gd.closest('#notebook-container');\n",
              "if (notebookContainer) {{\n",
              "    x.observe(notebookContainer, {childList: true});\n",
              "}}\n",
              "\n",
              "// Listen for the clearing of the current output cell\n",
              "var outputEl = gd.closest('.output');\n",
              "if (outputEl) {{\n",
              "    x.observe(outputEl, {childList: true});\n",
              "}}\n",
              "\n",
              "                        })                };                            </script>        </div>\n",
              "</body>\n",
              "</html>"
            ]
          },
          "metadata": {},
          "output_type": "display_data"
        }
      ],
      "source": [
        "# Create the plot\n",
        "fig = px.line(\n",
        "    df_pred_ridge,\n",
        "    markers=True,\n",
        "    title=\"Comparison of Actual and Predicted Price Using Ridge regression\",\n",
        ")\n",
        "\n",
        "# Show the plot\n",
        "fig.show()"
      ]
    },
    {
      "cell_type": "markdown",
      "metadata": {
        "id": "4WPXTnotYWMw"
      },
      "source": [
        "### Lasso Regression (L1)"
      ]
    },
    {
      "cell_type": "code",
      "execution_count": null,
      "metadata": {
        "colab": {
          "base_uri": "https://localhost:8080/"
        },
        "id": "KdBJYncWYnRw",
        "outputId": "2af023c3-b3be-4851-d982-fb3c470f3b60"
      },
      "outputs": [
        {
          "name": "stdout",
          "output_type": "stream",
          "text": [
            "Best alpha: 0.001\n"
          ]
        }
      ],
      "source": [
        "# Perform Grid Search to tune alpha\n",
        "param_grid = {\"alpha\": [0.001, 0.01, 0.1, 1, 10, 100]}\n",
        "ridge = Lasso()\n",
        "grid_search = GridSearchCV(ridge, param_grid, scoring=\"neg_mean_squared_error\", cv=10)\n",
        "grid_search.fit(X_train, y_train)\n",
        "\n",
        "print(\"Best alpha:\", grid_search.best_params_['alpha'])"
      ]
    },
    {
      "cell_type": "code",
      "execution_count": null,
      "metadata": {
        "id": "MEbG1yu_LIQc"
      },
      "outputs": [],
      "source": [
        "# Lasso Regression\n",
        "lasso_reg = Lasso(alpha=0.001)\n",
        "lasso_reg.fit(X_train, y_train)\n",
        "y_pred_lasso = lasso_reg.predict(X_test)"
      ]
    },
    {
      "cell_type": "code",
      "execution_count": null,
      "metadata": {
        "colab": {
          "base_uri": "https://localhost:8080/"
        },
        "id": "5oNLerb_Y0MX",
        "outputId": "eb5013a9-74d9-413e-d027-06acb2f81b20"
      },
      "outputs": [
        {
          "name": "stdout",
          "output_type": "stream",
          "text": [
            "Lasso Regression Equation:\n",
            "y = 0.00 + (0.71) * x1 + (0.13) * x2 + (0.04) * x3 + (-0.03) * x4 + (0.04) * x5 + (0.05) * x6 + (-0.02) * x7 + (0.08) * x8 + (-0.00) * x9 + (0.03) * x10\n"
          ]
        }
      ],
      "source": [
        "# Extract coefficients and intercept\n",
        "intercept = lasso_reg.intercept_\n",
        "coefficients = lasso_reg.coef_\n",
        "\n",
        "# Display the equation\n",
        "equation = f\"y = {intercept[0]:.2f}\"\n",
        "for i, coef in enumerate(coefficients):\n",
        "    equation += f\" + ({coef:.2f}) * x{i+1}\"\n",
        "\n",
        "print(\"Lasso Regression Equation:\")\n",
        "print(equation)"
      ]
    },
    {
      "cell_type": "code",
      "execution_count": null,
      "metadata": {
        "id": "Ru0Qv9eedHZq"
      },
      "outputs": [],
      "source": [
        "#inverse the values from scaller\n",
        "y_pred_lasso_inv = scaler_y.inverse_transform(y_pred_lasso.reshape(-1,1))\n",
        "y_test_inv = scaler_y.inverse_transform(y_test)"
      ]
    },
    {
      "cell_type": "code",
      "execution_count": null,
      "metadata": {
        "id": "NMk7EkgnZg-u"
      },
      "outputs": [],
      "source": [
        "#evaluate the model\n",
        "mse_lasso = mean_squared_error(y_test_inv, y_pred_lasso_inv)\n",
        "rmse_lasso = np.sqrt(mse_lasso)\n",
        "r2_lasso = r2_score(y_test_inv, y_pred_lasso_inv)"
      ]
    },
    {
      "cell_type": "code",
      "execution_count": null,
      "metadata": {
        "colab": {
          "base_uri": "https://localhost:8080/"
        },
        "id": "F1steEMPZuSf",
        "outputId": "cdb2fdbd-fc72-4f5c-b668-126b2c01e1e3"
      },
      "outputs": [
        {
          "name": "stdout",
          "output_type": "stream",
          "text": [
            "Lasso Regression - MSE: 11936559.109745394, Lasso R^2 Score: 0.9984269945950288, Lasso RMSE: 3454.932576729305\n"
          ]
        }
      ],
      "source": [
        "#generate report\n",
        "print(f\"Lasso Regression - MSE: {mse_lasso}, Lasso R^2 Score: {r2_lasso}, Lasso RMSE: {rmse_lasso}\")"
      ]
    },
    {
      "cell_type": "code",
      "execution_count": null,
      "metadata": {
        "colab": {
          "base_uri": "https://localhost:8080/",
          "height": 206
        },
        "id": "ZLHZfVeIMaEL",
        "outputId": "c7683f1d-172e-4ca9-ea65-9474e9b1312e"
      },
      "outputs": [
        {
          "data": {
            "application/vnd.google.colaboratory.intrinsic+json": {
              "summary": "{\n  \"name\": \"df_pred_lasso\",\n  \"rows\": 200,\n  \"fields\": [\n    {\n      \"column\": \"Actual\",\n      \"properties\": {\n        \"dtype\": \"number\",\n        \"std\": 87329.89312831484,\n        \"min\": 182507.1651706191,\n        \"max\": 542630.9152299282,\n        \"num_unique_values\": 200,\n        \"samples\": [\n          295133.55409329396,\n          305852.98457601113,\n          256905.31208975893\n        ],\n        \"semantic_type\": \"\",\n        \"description\": \"\"\n      }\n    },\n    {\n      \"column\": \"Predicted_Lasso\",\n      \"properties\": {\n        \"dtype\": \"number\",\n        \"std\": 85633.0508412751,\n        \"min\": 190399.55349006935,\n        \"max\": 536273.3354055546,\n        \"num_unique_values\": 200,\n        \"samples\": [\n          296034.62876266224,\n          304003.1560973705,\n          261999.17645863348\n        ],\n        \"semantic_type\": \"\",\n        \"description\": \"\"\n      }\n    }\n  ]\n}",
              "type": "dataframe",
              "variable_name": "df_pred_lasso"
            },
            "text/html": [
              "\n",
              "  <div id=\"df-a8b0c52d-dfc2-4680-a29b-59132ea213fc\" class=\"colab-df-container\">\n",
              "    <div>\n",
              "<style scoped>\n",
              "    .dataframe tbody tr th:only-of-type {\n",
              "        vertical-align: middle;\n",
              "    }\n",
              "\n",
              "    .dataframe tbody tr th {\n",
              "        vertical-align: top;\n",
              "    }\n",
              "\n",
              "    .dataframe thead th {\n",
              "        text-align: right;\n",
              "    }\n",
              "</style>\n",
              "<table border=\"1\" class=\"dataframe\">\n",
              "  <thead>\n",
              "    <tr style=\"text-align: right;\">\n",
              "      <th></th>\n",
              "      <th>Actual</th>\n",
              "      <th>Predicted_Lasso</th>\n",
              "    </tr>\n",
              "  </thead>\n",
              "  <tbody>\n",
              "    <tr>\n",
              "      <th>0</th>\n",
              "      <td>378671.043433</td>\n",
              "      <td>383837.886478</td>\n",
              "    </tr>\n",
              "    <tr>\n",
              "      <th>1</th>\n",
              "      <td>482020.696070</td>\n",
              "      <td>480859.577718</td>\n",
              "    </tr>\n",
              "    <tr>\n",
              "      <th>2</th>\n",
              "      <td>297024.833418</td>\n",
              "      <td>304513.867777</td>\n",
              "    </tr>\n",
              "    <tr>\n",
              "      <th>3</th>\n",
              "      <td>493703.141160</td>\n",
              "      <td>488246.777584</td>\n",
              "    </tr>\n",
              "    <tr>\n",
              "      <th>4</th>\n",
              "      <td>475344.058842</td>\n",
              "      <td>478266.728233</td>\n",
              "    </tr>\n",
              "  </tbody>\n",
              "</table>\n",
              "</div>\n",
              "    <div class=\"colab-df-buttons\">\n",
              "\n",
              "  <div class=\"colab-df-container\">\n",
              "    <button class=\"colab-df-convert\" onclick=\"convertToInteractive('df-a8b0c52d-dfc2-4680-a29b-59132ea213fc')\"\n",
              "            title=\"Convert this dataframe to an interactive table.\"\n",
              "            style=\"display:none;\">\n",
              "\n",
              "  <svg xmlns=\"http://www.w3.org/2000/svg\" height=\"24px\" viewBox=\"0 -960 960 960\">\n",
              "    <path d=\"M120-120v-720h720v720H120Zm60-500h600v-160H180v160Zm220 220h160v-160H400v160Zm0 220h160v-160H400v160ZM180-400h160v-160H180v160Zm440 0h160v-160H620v160ZM180-180h160v-160H180v160Zm440 0h160v-160H620v160Z\"/>\n",
              "  </svg>\n",
              "    </button>\n",
              "\n",
              "  <style>\n",
              "    .colab-df-container {\n",
              "      display:flex;\n",
              "      gap: 12px;\n",
              "    }\n",
              "\n",
              "    .colab-df-convert {\n",
              "      background-color: #E8F0FE;\n",
              "      border: none;\n",
              "      border-radius: 50%;\n",
              "      cursor: pointer;\n",
              "      display: none;\n",
              "      fill: #1967D2;\n",
              "      height: 32px;\n",
              "      padding: 0 0 0 0;\n",
              "      width: 32px;\n",
              "    }\n",
              "\n",
              "    .colab-df-convert:hover {\n",
              "      background-color: #E2EBFA;\n",
              "      box-shadow: 0px 1px 2px rgba(60, 64, 67, 0.3), 0px 1px 3px 1px rgba(60, 64, 67, 0.15);\n",
              "      fill: #174EA6;\n",
              "    }\n",
              "\n",
              "    .colab-df-buttons div {\n",
              "      margin-bottom: 4px;\n",
              "    }\n",
              "\n",
              "    [theme=dark] .colab-df-convert {\n",
              "      background-color: #3B4455;\n",
              "      fill: #D2E3FC;\n",
              "    }\n",
              "\n",
              "    [theme=dark] .colab-df-convert:hover {\n",
              "      background-color: #434B5C;\n",
              "      box-shadow: 0px 1px 3px 1px rgba(0, 0, 0, 0.15);\n",
              "      filter: drop-shadow(0px 1px 2px rgba(0, 0, 0, 0.3));\n",
              "      fill: #FFFFFF;\n",
              "    }\n",
              "  </style>\n",
              "\n",
              "    <script>\n",
              "      const buttonEl =\n",
              "        document.querySelector('#df-a8b0c52d-dfc2-4680-a29b-59132ea213fc button.colab-df-convert');\n",
              "      buttonEl.style.display =\n",
              "        google.colab.kernel.accessAllowed ? 'block' : 'none';\n",
              "\n",
              "      async function convertToInteractive(key) {\n",
              "        const element = document.querySelector('#df-a8b0c52d-dfc2-4680-a29b-59132ea213fc');\n",
              "        const dataTable =\n",
              "          await google.colab.kernel.invokeFunction('convertToInteractive',\n",
              "                                                    [key], {});\n",
              "        if (!dataTable) return;\n",
              "\n",
              "        const docLinkHtml = 'Like what you see? Visit the ' +\n",
              "          '<a target=\"_blank\" href=https://colab.research.google.com/notebooks/data_table.ipynb>data table notebook</a>'\n",
              "          + ' to learn more about interactive tables.';\n",
              "        element.innerHTML = '';\n",
              "        dataTable['output_type'] = 'display_data';\n",
              "        await google.colab.output.renderOutput(dataTable, element);\n",
              "        const docLink = document.createElement('div');\n",
              "        docLink.innerHTML = docLinkHtml;\n",
              "        element.appendChild(docLink);\n",
              "      }\n",
              "    </script>\n",
              "  </div>\n",
              "\n",
              "\n",
              "<div id=\"df-00dbf8a3-9527-4490-83f9-ca696849ff4f\">\n",
              "  <button class=\"colab-df-quickchart\" onclick=\"quickchart('df-00dbf8a3-9527-4490-83f9-ca696849ff4f')\"\n",
              "            title=\"Suggest charts\"\n",
              "            style=\"display:none;\">\n",
              "\n",
              "<svg xmlns=\"http://www.w3.org/2000/svg\" height=\"24px\"viewBox=\"0 0 24 24\"\n",
              "     width=\"24px\">\n",
              "    <g>\n",
              "        <path d=\"M19 3H5c-1.1 0-2 .9-2 2v14c0 1.1.9 2 2 2h14c1.1 0 2-.9 2-2V5c0-1.1-.9-2-2-2zM9 17H7v-7h2v7zm4 0h-2V7h2v10zm4 0h-2v-4h2v4z\"/>\n",
              "    </g>\n",
              "</svg>\n",
              "  </button>\n",
              "\n",
              "<style>\n",
              "  .colab-df-quickchart {\n",
              "      --bg-color: #E8F0FE;\n",
              "      --fill-color: #1967D2;\n",
              "      --hover-bg-color: #E2EBFA;\n",
              "      --hover-fill-color: #174EA6;\n",
              "      --disabled-fill-color: #AAA;\n",
              "      --disabled-bg-color: #DDD;\n",
              "  }\n",
              "\n",
              "  [theme=dark] .colab-df-quickchart {\n",
              "      --bg-color: #3B4455;\n",
              "      --fill-color: #D2E3FC;\n",
              "      --hover-bg-color: #434B5C;\n",
              "      --hover-fill-color: #FFFFFF;\n",
              "      --disabled-bg-color: #3B4455;\n",
              "      --disabled-fill-color: #666;\n",
              "  }\n",
              "\n",
              "  .colab-df-quickchart {\n",
              "    background-color: var(--bg-color);\n",
              "    border: none;\n",
              "    border-radius: 50%;\n",
              "    cursor: pointer;\n",
              "    display: none;\n",
              "    fill: var(--fill-color);\n",
              "    height: 32px;\n",
              "    padding: 0;\n",
              "    width: 32px;\n",
              "  }\n",
              "\n",
              "  .colab-df-quickchart:hover {\n",
              "    background-color: var(--hover-bg-color);\n",
              "    box-shadow: 0 1px 2px rgba(60, 64, 67, 0.3), 0 1px 3px 1px rgba(60, 64, 67, 0.15);\n",
              "    fill: var(--button-hover-fill-color);\n",
              "  }\n",
              "\n",
              "  .colab-df-quickchart-complete:disabled,\n",
              "  .colab-df-quickchart-complete:disabled:hover {\n",
              "    background-color: var(--disabled-bg-color);\n",
              "    fill: var(--disabled-fill-color);\n",
              "    box-shadow: none;\n",
              "  }\n",
              "\n",
              "  .colab-df-spinner {\n",
              "    border: 2px solid var(--fill-color);\n",
              "    border-color: transparent;\n",
              "    border-bottom-color: var(--fill-color);\n",
              "    animation:\n",
              "      spin 1s steps(1) infinite;\n",
              "  }\n",
              "\n",
              "  @keyframes spin {\n",
              "    0% {\n",
              "      border-color: transparent;\n",
              "      border-bottom-color: var(--fill-color);\n",
              "      border-left-color: var(--fill-color);\n",
              "    }\n",
              "    20% {\n",
              "      border-color: transparent;\n",
              "      border-left-color: var(--fill-color);\n",
              "      border-top-color: var(--fill-color);\n",
              "    }\n",
              "    30% {\n",
              "      border-color: transparent;\n",
              "      border-left-color: var(--fill-color);\n",
              "      border-top-color: var(--fill-color);\n",
              "      border-right-color: var(--fill-color);\n",
              "    }\n",
              "    40% {\n",
              "      border-color: transparent;\n",
              "      border-right-color: var(--fill-color);\n",
              "      border-top-color: var(--fill-color);\n",
              "    }\n",
              "    60% {\n",
              "      border-color: transparent;\n",
              "      border-right-color: var(--fill-color);\n",
              "    }\n",
              "    80% {\n",
              "      border-color: transparent;\n",
              "      border-right-color: var(--fill-color);\n",
              "      border-bottom-color: var(--fill-color);\n",
              "    }\n",
              "    90% {\n",
              "      border-color: transparent;\n",
              "      border-bottom-color: var(--fill-color);\n",
              "    }\n",
              "  }\n",
              "</style>\n",
              "\n",
              "  <script>\n",
              "    async function quickchart(key) {\n",
              "      const quickchartButtonEl =\n",
              "        document.querySelector('#' + key + ' button');\n",
              "      quickchartButtonEl.disabled = true;  // To prevent multiple clicks.\n",
              "      quickchartButtonEl.classList.add('colab-df-spinner');\n",
              "      try {\n",
              "        const charts = await google.colab.kernel.invokeFunction(\n",
              "            'suggestCharts', [key], {});\n",
              "      } catch (error) {\n",
              "        console.error('Error during call to suggestCharts:', error);\n",
              "      }\n",
              "      quickchartButtonEl.classList.remove('colab-df-spinner');\n",
              "      quickchartButtonEl.classList.add('colab-df-quickchart-complete');\n",
              "    }\n",
              "    (() => {\n",
              "      let quickchartButtonEl =\n",
              "        document.querySelector('#df-00dbf8a3-9527-4490-83f9-ca696849ff4f button');\n",
              "      quickchartButtonEl.style.display =\n",
              "        google.colab.kernel.accessAllowed ? 'block' : 'none';\n",
              "    })();\n",
              "  </script>\n",
              "</div>\n",
              "\n",
              "    </div>\n",
              "  </div>\n"
            ],
            "text/plain": [
              "          Actual  Predicted_Lasso\n",
              "0  378671.043433    383837.886478\n",
              "1  482020.696070    480859.577718\n",
              "2  297024.833418    304513.867777\n",
              "3  493703.141160    488246.777584\n",
              "4  475344.058842    478266.728233"
            ]
          },
          "execution_count": 31,
          "metadata": {},
          "output_type": "execute_result"
        }
      ],
      "source": [
        "#create predicted vs actual price dataframe\n",
        "df_pred_lasso= pd.DataFrame({'Actual': y_test_inv.flatten(),'Predicted_Lasso': y_pred_lasso_inv.flatten()})\n",
        "df_pred_lasso.head()\n"
      ]
    },
    {
      "cell_type": "code",
      "execution_count": null,
      "metadata": {
        "colab": {
          "base_uri": "https://localhost:8080/",
          "height": 542
        },
        "id": "9pC6TTRNOB0e",
        "outputId": "cf8a726c-7a58-4bf5-8257-f1cd5212a398"
      },
      "outputs": [
        {
          "data": {
            "text/html": [
              "<html>\n",
              "<head><meta charset=\"utf-8\" /></head>\n",
              "<body>\n",
              "    <div>            <script src=\"https://cdnjs.cloudflare.com/ajax/libs/mathjax/2.7.5/MathJax.js?config=TeX-AMS-MML_SVG\"></script><script type=\"text/javascript\">if (window.MathJax && window.MathJax.Hub && window.MathJax.Hub.Config) {window.MathJax.Hub.Config({SVG: {font: \"STIX-Web\"}});}</script>                <script type=\"text/javascript\">window.PlotlyConfig = {MathJaxConfig: 'local'};</script>\n",
              "        <script charset=\"utf-8\" src=\"https://cdn.plot.ly/plotly-2.35.2.min.js\"></script>                <div id=\"3070fb46-3080-4d71-b36c-525862eb0034\" class=\"plotly-graph-div\" style=\"height:525px; width:100%;\"></div>            <script type=\"text/javascript\">                                    window.PLOTLYENV=window.PLOTLYENV || {};                                    if (document.getElementById(\"3070fb46-3080-4d71-b36c-525862eb0034\")) {                    Plotly.newPlot(                        \"3070fb46-3080-4d71-b36c-525862eb0034\",                        [{\"hovertemplate\":\"variable=Actual\\u003cbr\\u003eindex=%{x}\\u003cbr\\u003evalue=%{y}\\u003cextra\\u003e\\u003c\\u002fextra\\u003e\",\"legendgroup\":\"Actual\",\"line\":{\"color\":\"#636efa\",\"dash\":\"solid\"},\"marker\":{\"symbol\":\"circle\"},\"mode\":\"lines+markers\",\"name\":\"Actual\",\"orientation\":\"v\",\"showlegend\":true,\"x\":[0,1,2,3,4,5,6,7,8,9,10,11,12,13,14,15,16,17,18,19,20,21,22,23,24,25,26,27,28,29,30,31,32,33,34,35,36,37,38,39,40,41,42,43,44,45,46,47,48,49,50,51,52,53,54,55,56,57,58,59,60,61,62,63,64,65,66,67,68,69,70,71,72,73,74,75,76,77,78,79,80,81,82,83,84,85,86,87,88,89,90,91,92,93,94,95,96,97,98,99,100,101,102,103,104,105,106,107,108,109,110,111,112,113,114,115,116,117,118,119,120,121,122,123,124,125,126,127,128,129,130,131,132,133,134,135,136,137,138,139,140,141,142,143,144,145,146,147,148,149,150,151,152,153,154,155,156,157,158,159,160,161,162,163,164,165,166,167,168,169,170,171,172,173,174,175,176,177,178,179,180,181,182,183,184,185,186,187,188,189,190,191,192,193,194,195,196,197,198,199],\"xaxis\":\"x\",\"y\":[378671.04343312036,482020.6960696785,297024.83341824345,493703.1411599225,475344.05884161557,350844.124794163,447052.25942149706,350590.8574376513,223272.02338353728,250202.53790522975,443285.81093872467,333540.8337914506,271396.8822796638,258909.2840416677,436778.02462155797,305852.98457601113,430627.13073550194,305683.40616489016,223279.54976207818,348150.5884354904,231268.11082680646,527024.8790846443,305749.18056364445,420501.08810409927,356652.3697483816,417905.5245368979,210313.44056796512,333957.2716178211,421509.1262530739,363093.2553209855,256905.31208975893,372687.4705432052,230508.87035486,316111.4453626853,221799.5959628155,326432.67501130264,383762.04862549197,364498.5829744428,235674.3505909945,538065.9070872534,329185.280407238,280456.83531692467,364960.95540665195,235765.42459261444,450552.9833439736,182507.1651706191,385289.3688104431,337332.8921082931,341412.4031111919,486861.7293479092,318345.48792727164,526749.1026884527,388295.75998632034,451926.6300046576,266228.9774377636,483054.786311143,293540.60670780047,288020.7392142377,448371.35065607197,289727.0806839754,515859.3937641741,403231.9348255483,487582.1395112667,478635.6702651516,365044.55227457307,435551.1600613362,466167.3277783599,389437.59895148204,530605.6791066619,477157.3283634391,356741.078464696,277122.5064254439,384835.7914869888,391553.89603087574,502064.1806337535,284865.45784422726,325927.7954967421,492277.36989297264,260614.74999896256,451646.24476514553,455194.69064672606,433694.7745213595,406433.1982593443,265538.2455488651,501810.39272016066,352762.57198093703,542630.9152299282,338325.50624814216,292314.62801891204,491701.12977782346,280999.76469231216,240816.01899490194,450871.7819460476,494372.9123009027,482514.0859711022,295133.55409329396,305262.7806645958,223549.68980748768,362866.0186937222,333447.12616601144,482403.90813215723,425989.3620893074,216371.4255103859,403318.62956835516,444574.09441486985,499241.2130065027,418118.1648123981,395307.132885235,374263.728222714,463066.4093090897,400159.90760881436,288319.69508970977,340510.84079132497,367724.70253550337,418350.10374946427,429112.9317597029,413096.6053954768,255960.4978485285,325958.79569912626,411622.28187628335,350157.9343750666,481656.84317429666,310421.76630372554,458558.2709517005,350357.2948329067,384048.39379125286,526901.5187303885,332143.85819541634,445472.73630175146,351537.0172718204,424557.88063827454,414676.92604384036,356899.45279063977,481827.6215233724,449793.50277366943,381802.8660916535,220680.2870445184,484158.64448643825,311496.71562062635,344351.30781659414,335116.371127619,484032.0614328623,246553.00085402507,389192.6591074116,305914.99298014125,380734.9150538701,322512.2127005144,201512.94753212994,237659.7595644988,379400.5248213528,485290.8767357045,217557.78614471358,272299.29691393836,395494.628747633,506289.9701626619,215980.94857734806,405201.7741407058,342656.93111618643,430196.5389089668,488615.8305720506,506953.15648188937,454334.4358269764,334897.49612864567,421522.87774227984,310179.13586615794,353024.7329095732,509891.29967220535,249539.22071116502,391492.742823955,285076.15936421417,338736.8908404192,365624.5067598093,460299.5880584192,370730.47298089665,342252.1299950254,251088.31857255154,321684.9747104389,537112.7649643528,476390.3044962265,274580.3435525404,345900.8362465795,386323.5492277455,393687.4864487829,333143.779094023,271193.310138679,407052.0489099584,414413.7211677971,274541.85833577806,435492.5643147081,327476.16175700934,291466.92715047457,407773.86828052654,315900.60848632775,307267.8748802606,368611.6858922653,442834.6173254054,502496.28396418155,299820.5134874352,428395.4862634641,275970.22694120236],\"yaxis\":\"y\",\"type\":\"scatter\"},{\"hovertemplate\":\"variable=Predicted_Lasso\\u003cbr\\u003eindex=%{x}\\u003cbr\\u003evalue=%{y}\\u003cextra\\u003e\\u003c\\u002fextra\\u003e\",\"legendgroup\":\"Predicted_Lasso\",\"line\":{\"color\":\"#EF553B\",\"dash\":\"solid\"},\"marker\":{\"symbol\":\"circle\"},\"mode\":\"lines+markers\",\"name\":\"Predicted_Lasso\",\"orientation\":\"v\",\"showlegend\":true,\"x\":[0,1,2,3,4,5,6,7,8,9,10,11,12,13,14,15,16,17,18,19,20,21,22,23,24,25,26,27,28,29,30,31,32,33,34,35,36,37,38,39,40,41,42,43,44,45,46,47,48,49,50,51,52,53,54,55,56,57,58,59,60,61,62,63,64,65,66,67,68,69,70,71,72,73,74,75,76,77,78,79,80,81,82,83,84,85,86,87,88,89,90,91,92,93,94,95,96,97,98,99,100,101,102,103,104,105,106,107,108,109,110,111,112,113,114,115,116,117,118,119,120,121,122,123,124,125,126,127,128,129,130,131,132,133,134,135,136,137,138,139,140,141,142,143,144,145,146,147,148,149,150,151,152,153,154,155,156,157,158,159,160,161,162,163,164,165,166,167,168,169,170,171,172,173,174,175,176,177,178,179,180,181,182,183,184,185,186,187,188,189,190,191,192,193,194,195,196,197,198,199],\"xaxis\":\"x\",\"y\":[383837.88647803426,480859.5777178556,304513.86777677695,488246.7775839158,478266.7282325832,347728.24475403223,443372.1395046211,355303.4756695093,223226.24552577623,256828.28867894507,446584.9400271944,329887.67496811954,274726.7259465284,258161.53135560898,436835.3460946871,304003.1560973705,432586.5971318629,308173.15146289766,228441.98835548694,349573.7365205564,234560.641411998,524056.65157569206,308219.6735268328,425959.5861493932,358052.1311590958,420278.90892123815,211362.6972270262,328744.6283322489,420386.5519678389,367405.98165265366,261999.17645863348,374317.9587426036,234821.74718850697,317306.3497380272,223097.4586773916,324960.5348391626,383800.25928497955,363703.2879468315,235142.2074689127,531775.2481300427,327145.5117620484,277930.95612888405,363186.5029050592,242322.6499820028,447422.510612496,190399.55349006935,389993.1590041468,346109.7784737905,343153.5543342381,486742.52981674357,314973.051636545,522325.3080598742,385640.0429552756,450396.85017153,272495.6684597641,482871.9480031006,297115.28339605324,284300.3216024829,450818.03196592553,288239.9926011546,514784.00725814764,404327.5237216422,486072.9975782823,473521.3150155588,364549.8902054818,433352.3512151807,461908.0049197973,388457.3860003305,529479.0713346514,476670.09438816877,351476.28178709024,279865.26014065515,380822.1338059294,389222.91207150253,504667.5712750032,285379.3331061805,324755.9923663813,493403.1458159433,266061.9519136496,444712.1742805344,448296.76805756794,431199.52186942246,410364.8303837252,271399.2513369954,492907.5418904985,351706.7297921455,536273.3354055546,339236.11075038085,292545.23655098415,487844.9520894642,277143.04778156866,243382.39357547092,444800.9410985332,493967.9368890918,482536.18340216763,296034.62876266224,306802.5575153579,229849.33327625954,360423.84800292534,336449.6868864656,484424.563523102,423834.97289255675,222709.62591578052,402478.0312382092,448407.24128968664,496297.36921371776,417800.7265815909,395968.76633310586,378028.7530508946,463739.64228090807,399887.0139794437,286233.13828369253,342026.3465166742,369418.7763028658,415949.1961381013,431744.3783014849,410814.5154396563,257891.98842741837,324995.5856982558,413872.62064045714,351674.394407945,481770.2478493925,310702.29009015043,461775.2248656325,354980.72218698286,382788.71066356904,519489.5456301871,331153.7160882833,446455.08954786084,355494.9108088982,427174.40287396667,412521.00848252664,355990.79561078345,478697.90060809726,447979.88055377826,385636.67927627923,228770.86687118548,482471.9813492263,314039.75218209525,344093.2404472805,336719.13796527067,484482.4734470264,248836.48739986226,389310.63197898096,307347.19257570175,381755.3993023285,324772.7056149105,211437.06686471988,238627.2722713286,383775.92298461025,484650.72977465135,225962.68138967932,268015.97490401356,396309.366762486,504317.0698816031,215917.60752286398,402775.25469614536,346432.36496841704,433710.8704231507,487149.236573065,503404.519429175,455848.2986020287,332386.04492779035,417945.3778133734,309638.68601656513,350215.8383262936,507520.45654936833,253144.69085878303,390970.01393166475,287070.16457738186,338100.09494720795,367607.7009879673,460450.87334688846,372641.6706182348,340013.09356851573,252768.4184088992,326474.62162724877,533532.0393477734,477850.001417619,279264.5771457554,350569.8754293855,385126.9303034934,391540.61744273396,334772.9642542831,268825.04079424834,407816.1244008753,409136.5696600737,275383.8210549517,432817.6239930653,326608.2128723592,294905.34268241026,400037.03895492037,321025.7523432337,314002.5533186708,369467.55507827183,442104.41270271817,498894.5447172132,300644.72353588993,427371.92551376444,278326.19641781837],\"yaxis\":\"y\",\"type\":\"scatter\"}],                        {\"template\":{\"data\":{\"histogram2dcontour\":[{\"type\":\"histogram2dcontour\",\"colorbar\":{\"outlinewidth\":0,\"ticks\":\"\"},\"colorscale\":[[0.0,\"#0d0887\"],[0.1111111111111111,\"#46039f\"],[0.2222222222222222,\"#7201a8\"],[0.3333333333333333,\"#9c179e\"],[0.4444444444444444,\"#bd3786\"],[0.5555555555555556,\"#d8576b\"],[0.6666666666666666,\"#ed7953\"],[0.7777777777777778,\"#fb9f3a\"],[0.8888888888888888,\"#fdca26\"],[1.0,\"#f0f921\"]]}],\"choropleth\":[{\"type\":\"choropleth\",\"colorbar\":{\"outlinewidth\":0,\"ticks\":\"\"}}],\"histogram2d\":[{\"type\":\"histogram2d\",\"colorbar\":{\"outlinewidth\":0,\"ticks\":\"\"},\"colorscale\":[[0.0,\"#0d0887\"],[0.1111111111111111,\"#46039f\"],[0.2222222222222222,\"#7201a8\"],[0.3333333333333333,\"#9c179e\"],[0.4444444444444444,\"#bd3786\"],[0.5555555555555556,\"#d8576b\"],[0.6666666666666666,\"#ed7953\"],[0.7777777777777778,\"#fb9f3a\"],[0.8888888888888888,\"#fdca26\"],[1.0,\"#f0f921\"]]}],\"heatmap\":[{\"type\":\"heatmap\",\"colorbar\":{\"outlinewidth\":0,\"ticks\":\"\"},\"colorscale\":[[0.0,\"#0d0887\"],[0.1111111111111111,\"#46039f\"],[0.2222222222222222,\"#7201a8\"],[0.3333333333333333,\"#9c179e\"],[0.4444444444444444,\"#bd3786\"],[0.5555555555555556,\"#d8576b\"],[0.6666666666666666,\"#ed7953\"],[0.7777777777777778,\"#fb9f3a\"],[0.8888888888888888,\"#fdca26\"],[1.0,\"#f0f921\"]]}],\"heatmapgl\":[{\"type\":\"heatmapgl\",\"colorbar\":{\"outlinewidth\":0,\"ticks\":\"\"},\"colorscale\":[[0.0,\"#0d0887\"],[0.1111111111111111,\"#46039f\"],[0.2222222222222222,\"#7201a8\"],[0.3333333333333333,\"#9c179e\"],[0.4444444444444444,\"#bd3786\"],[0.5555555555555556,\"#d8576b\"],[0.6666666666666666,\"#ed7953\"],[0.7777777777777778,\"#fb9f3a\"],[0.8888888888888888,\"#fdca26\"],[1.0,\"#f0f921\"]]}],\"contourcarpet\":[{\"type\":\"contourcarpet\",\"colorbar\":{\"outlinewidth\":0,\"ticks\":\"\"}}],\"contour\":[{\"type\":\"contour\",\"colorbar\":{\"outlinewidth\":0,\"ticks\":\"\"},\"colorscale\":[[0.0,\"#0d0887\"],[0.1111111111111111,\"#46039f\"],[0.2222222222222222,\"#7201a8\"],[0.3333333333333333,\"#9c179e\"],[0.4444444444444444,\"#bd3786\"],[0.5555555555555556,\"#d8576b\"],[0.6666666666666666,\"#ed7953\"],[0.7777777777777778,\"#fb9f3a\"],[0.8888888888888888,\"#fdca26\"],[1.0,\"#f0f921\"]]}],\"surface\":[{\"type\":\"surface\",\"colorbar\":{\"outlinewidth\":0,\"ticks\":\"\"},\"colorscale\":[[0.0,\"#0d0887\"],[0.1111111111111111,\"#46039f\"],[0.2222222222222222,\"#7201a8\"],[0.3333333333333333,\"#9c179e\"],[0.4444444444444444,\"#bd3786\"],[0.5555555555555556,\"#d8576b\"],[0.6666666666666666,\"#ed7953\"],[0.7777777777777778,\"#fb9f3a\"],[0.8888888888888888,\"#fdca26\"],[1.0,\"#f0f921\"]]}],\"mesh3d\":[{\"type\":\"mesh3d\",\"colorbar\":{\"outlinewidth\":0,\"ticks\":\"\"}}],\"scatter\":[{\"fillpattern\":{\"fillmode\":\"overlay\",\"size\":10,\"solidity\":0.2},\"type\":\"scatter\"}],\"parcoords\":[{\"type\":\"parcoords\",\"line\":{\"colorbar\":{\"outlinewidth\":0,\"ticks\":\"\"}}}],\"scatterpolargl\":[{\"type\":\"scatterpolargl\",\"marker\":{\"colorbar\":{\"outlinewidth\":0,\"ticks\":\"\"}}}],\"bar\":[{\"error_x\":{\"color\":\"#2a3f5f\"},\"error_y\":{\"color\":\"#2a3f5f\"},\"marker\":{\"line\":{\"color\":\"#E5ECF6\",\"width\":0.5},\"pattern\":{\"fillmode\":\"overlay\",\"size\":10,\"solidity\":0.2}},\"type\":\"bar\"}],\"scattergeo\":[{\"type\":\"scattergeo\",\"marker\":{\"colorbar\":{\"outlinewidth\":0,\"ticks\":\"\"}}}],\"scatterpolar\":[{\"type\":\"scatterpolar\",\"marker\":{\"colorbar\":{\"outlinewidth\":0,\"ticks\":\"\"}}}],\"histogram\":[{\"marker\":{\"pattern\":{\"fillmode\":\"overlay\",\"size\":10,\"solidity\":0.2}},\"type\":\"histogram\"}],\"scattergl\":[{\"type\":\"scattergl\",\"marker\":{\"colorbar\":{\"outlinewidth\":0,\"ticks\":\"\"}}}],\"scatter3d\":[{\"type\":\"scatter3d\",\"line\":{\"colorbar\":{\"outlinewidth\":0,\"ticks\":\"\"}},\"marker\":{\"colorbar\":{\"outlinewidth\":0,\"ticks\":\"\"}}}],\"scattermapbox\":[{\"type\":\"scattermapbox\",\"marker\":{\"colorbar\":{\"outlinewidth\":0,\"ticks\":\"\"}}}],\"scatterternary\":[{\"type\":\"scatterternary\",\"marker\":{\"colorbar\":{\"outlinewidth\":0,\"ticks\":\"\"}}}],\"scattercarpet\":[{\"type\":\"scattercarpet\",\"marker\":{\"colorbar\":{\"outlinewidth\":0,\"ticks\":\"\"}}}],\"carpet\":[{\"aaxis\":{\"endlinecolor\":\"#2a3f5f\",\"gridcolor\":\"white\",\"linecolor\":\"white\",\"minorgridcolor\":\"white\",\"startlinecolor\":\"#2a3f5f\"},\"baxis\":{\"endlinecolor\":\"#2a3f5f\",\"gridcolor\":\"white\",\"linecolor\":\"white\",\"minorgridcolor\":\"white\",\"startlinecolor\":\"#2a3f5f\"},\"type\":\"carpet\"}],\"table\":[{\"cells\":{\"fill\":{\"color\":\"#EBF0F8\"},\"line\":{\"color\":\"white\"}},\"header\":{\"fill\":{\"color\":\"#C8D4E3\"},\"line\":{\"color\":\"white\"}},\"type\":\"table\"}],\"barpolar\":[{\"marker\":{\"line\":{\"color\":\"#E5ECF6\",\"width\":0.5},\"pattern\":{\"fillmode\":\"overlay\",\"size\":10,\"solidity\":0.2}},\"type\":\"barpolar\"}],\"pie\":[{\"automargin\":true,\"type\":\"pie\"}]},\"layout\":{\"autotypenumbers\":\"strict\",\"colorway\":[\"#636efa\",\"#EF553B\",\"#00cc96\",\"#ab63fa\",\"#FFA15A\",\"#19d3f3\",\"#FF6692\",\"#B6E880\",\"#FF97FF\",\"#FECB52\"],\"font\":{\"color\":\"#2a3f5f\"},\"hovermode\":\"closest\",\"hoverlabel\":{\"align\":\"left\"},\"paper_bgcolor\":\"white\",\"plot_bgcolor\":\"#E5ECF6\",\"polar\":{\"bgcolor\":\"#E5ECF6\",\"angularaxis\":{\"gridcolor\":\"white\",\"linecolor\":\"white\",\"ticks\":\"\"},\"radialaxis\":{\"gridcolor\":\"white\",\"linecolor\":\"white\",\"ticks\":\"\"}},\"ternary\":{\"bgcolor\":\"#E5ECF6\",\"aaxis\":{\"gridcolor\":\"white\",\"linecolor\":\"white\",\"ticks\":\"\"},\"baxis\":{\"gridcolor\":\"white\",\"linecolor\":\"white\",\"ticks\":\"\"},\"caxis\":{\"gridcolor\":\"white\",\"linecolor\":\"white\",\"ticks\":\"\"}},\"coloraxis\":{\"colorbar\":{\"outlinewidth\":0,\"ticks\":\"\"}},\"colorscale\":{\"sequential\":[[0.0,\"#0d0887\"],[0.1111111111111111,\"#46039f\"],[0.2222222222222222,\"#7201a8\"],[0.3333333333333333,\"#9c179e\"],[0.4444444444444444,\"#bd3786\"],[0.5555555555555556,\"#d8576b\"],[0.6666666666666666,\"#ed7953\"],[0.7777777777777778,\"#fb9f3a\"],[0.8888888888888888,\"#fdca26\"],[1.0,\"#f0f921\"]],\"sequentialminus\":[[0.0,\"#0d0887\"],[0.1111111111111111,\"#46039f\"],[0.2222222222222222,\"#7201a8\"],[0.3333333333333333,\"#9c179e\"],[0.4444444444444444,\"#bd3786\"],[0.5555555555555556,\"#d8576b\"],[0.6666666666666666,\"#ed7953\"],[0.7777777777777778,\"#fb9f3a\"],[0.8888888888888888,\"#fdca26\"],[1.0,\"#f0f921\"]],\"diverging\":[[0,\"#8e0152\"],[0.1,\"#c51b7d\"],[0.2,\"#de77ae\"],[0.3,\"#f1b6da\"],[0.4,\"#fde0ef\"],[0.5,\"#f7f7f7\"],[0.6,\"#e6f5d0\"],[0.7,\"#b8e186\"],[0.8,\"#7fbc41\"],[0.9,\"#4d9221\"],[1,\"#276419\"]]},\"xaxis\":{\"gridcolor\":\"white\",\"linecolor\":\"white\",\"ticks\":\"\",\"title\":{\"standoff\":15},\"zerolinecolor\":\"white\",\"automargin\":true,\"zerolinewidth\":2},\"yaxis\":{\"gridcolor\":\"white\",\"linecolor\":\"white\",\"ticks\":\"\",\"title\":{\"standoff\":15},\"zerolinecolor\":\"white\",\"automargin\":true,\"zerolinewidth\":2},\"scene\":{\"xaxis\":{\"backgroundcolor\":\"#E5ECF6\",\"gridcolor\":\"white\",\"linecolor\":\"white\",\"showbackground\":true,\"ticks\":\"\",\"zerolinecolor\":\"white\",\"gridwidth\":2},\"yaxis\":{\"backgroundcolor\":\"#E5ECF6\",\"gridcolor\":\"white\",\"linecolor\":\"white\",\"showbackground\":true,\"ticks\":\"\",\"zerolinecolor\":\"white\",\"gridwidth\":2},\"zaxis\":{\"backgroundcolor\":\"#E5ECF6\",\"gridcolor\":\"white\",\"linecolor\":\"white\",\"showbackground\":true,\"ticks\":\"\",\"zerolinecolor\":\"white\",\"gridwidth\":2}},\"shapedefaults\":{\"line\":{\"color\":\"#2a3f5f\"}},\"annotationdefaults\":{\"arrowcolor\":\"#2a3f5f\",\"arrowhead\":0,\"arrowwidth\":1},\"geo\":{\"bgcolor\":\"white\",\"landcolor\":\"#E5ECF6\",\"subunitcolor\":\"white\",\"showland\":true,\"showlakes\":true,\"lakecolor\":\"white\"},\"title\":{\"x\":0.05},\"mapbox\":{\"style\":\"light\"}}},\"xaxis\":{\"anchor\":\"y\",\"domain\":[0.0,1.0],\"title\":{\"text\":\"index\"}},\"yaxis\":{\"anchor\":\"x\",\"domain\":[0.0,1.0],\"title\":{\"text\":\"value\"}},\"legend\":{\"title\":{\"text\":\"variable\"},\"tracegroupgap\":0},\"title\":{\"text\":\"Comparison of Actual and Predicted Price Using Lasso regression\"}},                        {\"responsive\": true}                    ).then(function(){\n",
              "                            \n",
              "var gd = document.getElementById('3070fb46-3080-4d71-b36c-525862eb0034');\n",
              "var x = new MutationObserver(function (mutations, observer) {{\n",
              "        var display = window.getComputedStyle(gd).display;\n",
              "        if (!display || display === 'none') {{\n",
              "            console.log([gd, 'removed!']);\n",
              "            Plotly.purge(gd);\n",
              "            observer.disconnect();\n",
              "        }}\n",
              "}});\n",
              "\n",
              "// Listen for the removal of the full notebook cells\n",
              "var notebookContainer = gd.closest('#notebook-container');\n",
              "if (notebookContainer) {{\n",
              "    x.observe(notebookContainer, {childList: true});\n",
              "}}\n",
              "\n",
              "// Listen for the clearing of the current output cell\n",
              "var outputEl = gd.closest('.output');\n",
              "if (outputEl) {{\n",
              "    x.observe(outputEl, {childList: true});\n",
              "}}\n",
              "\n",
              "                        })                };                            </script>        </div>\n",
              "</body>\n",
              "</html>"
            ]
          },
          "metadata": {},
          "output_type": "display_data"
        }
      ],
      "source": [
        "# Create the plot\n",
        "fig = px.line(\n",
        "    df_pred_lasso,\n",
        "    markers=True,\n",
        "    title=\"Comparison of Actual and Predicted Price Using Lasso regression\",\n",
        ")\n",
        "\n",
        "# Show the plot\n",
        "fig.show()"
      ]
    },
    {
      "cell_type": "markdown",
      "metadata": {
        "id": "X_aPMUU_3WQ_"
      },
      "source": [
        "### Polynomial Regression"
      ]
    },
    {
      "cell_type": "code",
      "execution_count": null,
      "metadata": {
        "id": "3IO5dQB13awQ"
      },
      "outputs": [],
      "source": [
        "# Create polynomial features\n",
        "poly = PolynomialFeatures(degree=2, include_bias=True)  # Add interaction and square terms\n",
        "X_train_poly = poly.fit_transform(X_train)\n",
        "X_test_poly = poly.transform(X_test)"
      ]
    },
    {
      "cell_type": "code",
      "execution_count": null,
      "metadata": {
        "colab": {
          "base_uri": "https://localhost:8080/"
        },
        "id": "ZDmztqWn3lS-",
        "outputId": "b155dc3e-8ef9-4326-ed09-a4c56aeba1ce"
      },
      "outputs": [
        {
          "name": "stdout",
          "output_type": "stream",
          "text": [
            "MSE with Polynomial Features: 8.976374284800029e-32\n"
          ]
        }
      ],
      "source": [
        "# Train the model\n",
        "model = LinearRegression()\n",
        "model.fit(X_train_poly, y_train)\n",
        "\n",
        "# Evaluate the model\n",
        "y_pred = model.predict(X_test_poly)\n",
        "print(\"MSE with Polynomial Features:\", mean_squared_error(y_test, y_pred))"
      ]
    },
    {
      "cell_type": "code",
      "execution_count": null,
      "metadata": {
        "id": "NDC_3tHY39Zs"
      },
      "outputs": [],
      "source": [
        "#inverse predicted values\n",
        "y_pred_lin_inv = scaler_y.inverse_transform(y_pred)\n",
        "y_test_inv = scaler_y.inverse_transform(y_test)"
      ]
    },
    {
      "cell_type": "code",
      "execution_count": null,
      "metadata": {
        "id": "OHroRLXs4CDt"
      },
      "outputs": [],
      "source": [
        "#evaluate the model\n",
        "mse_lin = mean_squared_error(y_test_inv, y_pred_lin_inv)\n",
        "rmse_lin = np.sqrt(mse_lin)\n",
        "r2_lin = r2_score(y_test_inv, y_pred_lin_inv)"
      ]
    },
    {
      "cell_type": "code",
      "execution_count": null,
      "metadata": {
        "colab": {
          "base_uri": "https://localhost:8080/"
        },
        "id": "CGpGy7Hr4D22",
        "outputId": "81d68c2e-0bd0-417c-e162-e2de065e746f"
      },
      "outputs": [
        {
          "name": "stdout",
          "output_type": "stream",
          "text": [
            "Linear Regression - MSE: 1.8710957804847494e-20, R^2 Score: 1.0, RMSE: 1.367880031466484e-10\n"
          ]
        }
      ],
      "source": [
        "#generate report\n",
        "print(f\"Linear Regression - MSE: {mse_lin}, R^2 Score: {r2_lin}, RMSE: {rmse_lin}\")"
      ]
    },
    {
      "cell_type": "markdown",
      "metadata": {
        "id": "A0R0l1weZm56"
      },
      "source": [
        "### Principle Component Analysis"
      ]
    },
    {
      "cell_type": "code",
      "execution_count": null,
      "metadata": {
        "colab": {
          "base_uri": "https://localhost:8080/",
          "height": 1000
        },
        "id": "MWZ44wxCZq5q",
        "outputId": "172e43ae-1ae2-4cb0-b75b-a9e54a45e584"
      },
      "outputs": [
        {
          "data": {
            "image/png": "[encoded data removed]",
            "text/plain": [
              "<Figure size 800x600 with 1 Axes>"
            ]
          },
          "metadata": {},
          "output_type": "display_data"
        },
        {
          "data": {
            "image/png": "[encoded data removed]",
            "text/plain": [
              "<Figure size 800x600 with 1 Axes>"
            ]
          },
          "metadata": {},
          "output_type": "display_data"
        }
      ],
      "source": [
        "# Apply PCA\n",
        "pca = PCA()\n",
        "X_pca = pca.fit_transform(X_scaled)\n",
        "\n",
        "# Create a DataFrame for the PCA-transformed features\n",
        "pca_columns = [f'PC{i+1}' for i in range(X_pca.shape[1])]\n",
        "pca_df = pd.DataFrame(X_pca, columns=pca_columns)\n",
        "\n",
        "# Visualize the explained variance ratio\n",
        "plt.figure(figsize=(8, 6))\n",
        "plt.plot(range(1, len(pca.explained_variance_ratio_) + 1), pca.explained_variance_ratio_, marker='o', linestyle='--')\n",
        "plt.title('Explained Variance Ratio by Principal Components')\n",
        "plt.xlabel('Principal Component')\n",
        "plt.ylabel('Explained Variance Ratio')\n",
        "plt.grid()\n",
        "plt.show()\n",
        "\n",
        "# Cumulative explained variance\n",
        "plt.figure(figsize=(8, 6))\n",
        "plt.plot(range(1, len(pca.explained_variance_ratio_) + 1),\n",
        "         pca.explained_variance_ratio_.cumsum(), marker='o', linestyle='--', color='green')\n",
        "plt.title('Cumulative Explained Variance')\n",
        "plt.xlabel('Number of Principal Components')\n",
        "plt.ylabel('Cumulative Explained Variance')\n",
        "plt.grid()\n",
        "plt.show()"
      ]
    },
    {
      "cell_type": "code",
      "execution_count": null,
      "metadata": {
        "colab": {
          "base_uri": "https://localhost:8080/",
          "height": 564
        },
        "id": "_dOShTkwahWZ",
        "outputId": "edc8d8e7-9918-4c82-f313-012a7dfb8653"
      },
      "outputs": [
        {
          "data": {
            "image/png": "[encoded data removed]",
            "text/plain": [
              "<Figure size 800x600 with 1 Axes>"
            ]
          },
          "metadata": {},
          "output_type": "display_data"
        }
      ],
      "source": [
        "# Plot Scree Plot\n",
        "plt.figure(figsize=(8, 6))\n",
        "plt.bar(range(1, len(pca.explained_variance_ratio_) + 1), pca.explained_variance_ratio_, alpha=0.7, label='Individual Explained Variance')\n",
        "plt.step(range(1, len(pca.explained_variance_ratio_) + 1),\n",
        "         pca.explained_variance_ratio_.cumsum(), where='mid', label='Cumulative Explained Variance', color='red')\n",
        "plt.xlabel('Principal Component')\n",
        "plt.ylabel('Explained Variance Ratio')\n",
        "plt.title('Scree Plot: Variance Explained by Each Principal Component')\n",
        "plt.legend(loc='best')\n",
        "plt.grid()\n",
        "plt.show()"
      ]
    },
    {
      "cell_type": "markdown",
      "metadata": {
        "id": "bxUDtvW6a1Me"
      },
      "source": [
        "Since 10 Components Explains 90% Of Varaince"
      ]
    },
    {
      "cell_type": "code",
      "execution_count": null,
      "metadata": {
        "id": "UusTKoZ9a729"
      },
      "outputs": [],
      "source": [
        "#data with 10 principle components\n",
        "X_top_pca= X_pca[:,:10]"
      ]
    },
    {
      "cell_type": "markdown",
      "metadata": {
        "id": "iXhGZLyjcNaF"
      },
      "source": [
        "Get the factor laoding"
      ]
    },
    {
      "cell_type": "code",
      "execution_count": null,
      "metadata": {
        "id": "KG-X44kgcMbp"
      },
      "outputs": [],
      "source": [
        "# Get the loading matrix (coefficients of the components)\n",
        "loadings = pca.components_\n",
        "\n",
        "# Convert to DataFrame for better readability\n",
        "loadings_df = pd.DataFrame(loadings.T, columns=[f\"PC{i+1}\" for i in range(10)], index=X.columns)"
      ]
    },
    {
      "cell_type": "code",
      "execution_count": null,
      "metadata": {
        "colab": {
          "base_uri": "https://localhost:8080/",
          "height": 363
        },
        "id": "RUNp_nF9caMg",
        "outputId": "e9e2b7f6-2d13-4fd4-d55f-68647ae45472"
      },
      "outputs": [
        {
          "data": {
            "application/vnd.google.colaboratory.intrinsic+json": {
              "summary": "{\n  \"name\": \"loadings_df\",\n  \"rows\": 10,\n  \"fields\": [\n    {\n      \"column\": \"PC1\",\n      \"properties\": {\n        \"dtype\": \"number\",\n        \"std\": 0.28056797985835275,\n        \"min\": -0.05501733783212104,\n        \"max\": 0.699764963199069,\n        \"num_unique_values\": 10,\n        \"samples\": [\n          -0.005071089555179369,\n          -0.05501733783212104,\n          0.699764963199069\n        ],\n        \"semantic_type\": \"\",\n        \"description\": \"\"\n      }\n    },\n    {\n      \"column\": \"PC2\",\n      \"properties\": {\n        \"dtype\": \"number\",\n        \"std\": 0.33295770631208754,\n        \"min\": -0.6368072773039859,\n        \"max\": 0.7482134828660039,\n        \"num_unique_values\": 10,\n        \"samples\": [\n          -0.012762369745988805,\n          0.05760184292010101,\n          -0.10761154117871481\n        ],\n        \"semantic_type\": \"\",\n        \"description\": \"\"\n      }\n    },\n    {\n      \"column\": \"PC3\",\n      \"properties\": {\n        \"dtype\": \"number\",\n        \"std\": 0.33186792468236503,\n        \"min\": -0.586328348329306,\n        \"max\": 0.690398006078861,\n        \"num_unique_values\": 10,\n        \"samples\": [\n          0.012524991329278645,\n          -0.017847420494939092,\n          0.690398006078861\n        ],\n        \"semantic_type\": \"\",\n        \"description\": \"\"\n      }\n    },\n    {\n      \"column\": \"PC4\",\n      \"properties\": {\n        \"dtype\": \"number\",\n        \"std\": 0.3272661537210058,\n        \"min\": -0.13295086282786694,\n        \"max\": 0.9752036518966231,\n        \"num_unique_values\": 10,\n        \"samples\": [\n          0.01677761296785641,\n          -0.13295086282786694,\n          -0.09408833137862128\n        ],\n        \"semantic_type\": \"\",\n        \"description\": \"\"\n      }\n    },\n    {\n      \"column\": \"PC5\",\n      \"properties\": {\n        \"dtype\": \"number\",\n        \"std\": 0.33231448475179914,\n        \"min\": -0.42935629611070003,\n        \"max\": 0.8546531749923644,\n        \"num_unique_values\": 10,\n        \"samples\": [\n          -0.17174311552826516,\n          0.8546531749923644,\n          0.040208849880866926\n        ],\n        \"semantic_type\": \"\",\n        \"description\": \"\"\n      }\n    },\n    {\n      \"column\": \"PC6\",\n      \"properties\": {\n        \"dtype\": \"number\",\n        \"std\": 0.3112311248021637,\n        \"min\": -0.17548094310352946,\n        \"max\": 0.8733687837617208,\n        \"num_unique_values\": 10,\n        \"samples\": [\n          -0.040586815412901094,\n          0.4166298293755926,\n          0.025366722955815574\n        ],\n        \"semantic_type\": \"\",\n        \"description\": \"\"\n      }\n    },\n    {\n      \"column\": \"PC7\",\n      \"properties\": {\n        \"dtype\": \"number\",\n        \"std\": 0.305065042433068,\n        \"min\": -0.23747980345848327,\n        \"max\": 0.8278883882090821,\n        \"num_unique_values\": 10,\n        \"samples\": [\n          0.8278883882090821,\n          0.09060187454942059,\n          0.024630929202680077\n        ],\n        \"semantic_type\": \"\",\n        \"description\": \"\"\n      }\n    },\n    {\n      \"column\": \"PC8\",\n      \"properties\": {\n        \"dtype\": \"number\",\n        \"std\": 0.2665591789791553,\n        \"min\": 0.009386725880266442,\n        \"max\": 0.8181532833153045,\n        \"num_unique_values\": 10,\n        \"samples\": [\n          0.06582968742709076,\n          0.20362508101179233,\n          0.009386725880266442\n        ],\n        \"semantic_type\": \"\",\n        \"description\": \"\"\n      }\n    },\n    {\n      \"column\": \"PC9\",\n      \"properties\": {\n        \"dtype\": \"number\",\n        \"std\": 0.33328698042442984,\n        \"min\": -0.6002554461938929,\n        \"max\": 0.6751855467896805,\n        \"num_unique_values\": 10,\n        \"samples\": [\n          0.18146637996228068,\n          0.04624118419906746,\n          -0.10144419523914906\n        ],\n        \"semantic_type\": \"\",\n        \"description\": \"\"\n      }\n    },\n    {\n      \"column\": \"PC10\",\n      \"properties\": {\n        \"dtype\": \"number\",\n        \"std\": 0.3326934061965112,\n        \"min\": -0.49554745162595776,\n        \"max\": 0.6053748830450731,\n        \"num_unique_values\": 10,\n        \"samples\": [\n          -0.49554745162595776,\n          -0.14084769515314458,\n          -0.000889549746019791\n        ],\n        \"semantic_type\": \"\",\n        \"description\": \"\"\n      }\n    }\n  ]\n}",
              "type": "dataframe",
              "variable_name": "loadings_df"
            },
            "text/html": [
              "\n",
              "  <div id=\"df-170cc46c-5f1b-4630-ae59-0f11ec6e7b9e\" class=\"colab-df-container\">\n",
              "    <div>\n",
              "<style scoped>\n",
              "    .dataframe tbody tr th:only-of-type {\n",
              "        vertical-align: middle;\n",
              "    }\n",
              "\n",
              "    .dataframe tbody tr th {\n",
              "        vertical-align: top;\n",
              "    }\n",
              "\n",
              "    .dataframe thead th {\n",
              "        text-align: right;\n",
              "    }\n",
              "</style>\n",
              "<table border=\"1\" class=\"dataframe\">\n",
              "  <thead>\n",
              "    <tr style=\"text-align: right;\">\n",
              "      <th></th>\n",
              "      <th>PC1</th>\n",
              "      <th>PC2</th>\n",
              "      <th>PC3</th>\n",
              "      <th>PC4</th>\n",
              "      <th>PC5</th>\n",
              "      <th>PC6</th>\n",
              "      <th>PC7</th>\n",
              "      <th>PC8</th>\n",
              "      <th>PC9</th>\n",
              "      <th>PC10</th>\n",
              "    </tr>\n",
              "  </thead>\n",
              "  <tbody>\n",
              "    <tr>\n",
              "      <th>Square_Footage</th>\n",
              "      <td>-0.050917</td>\n",
              "      <td>0.035332</td>\n",
              "      <td>0.014302</td>\n",
              "      <td>-0.024888</td>\n",
              "      <td>-0.210319</td>\n",
              "      <td>-0.012684</td>\n",
              "      <td>-0.237480</td>\n",
              "      <td>0.818153</td>\n",
              "      <td>-0.333819</td>\n",
              "      <td>-0.337244</td>\n",
              "    </tr>\n",
              "    <tr>\n",
              "      <th>Bedrooms</th>\n",
              "      <td>-0.055017</td>\n",
              "      <td>0.057602</td>\n",
              "      <td>-0.017847</td>\n",
              "      <td>-0.132951</td>\n",
              "      <td>0.854653</td>\n",
              "      <td>0.416630</td>\n",
              "      <td>0.090602</td>\n",
              "      <td>0.203625</td>\n",
              "      <td>0.046241</td>\n",
              "      <td>-0.140848</td>\n",
              "    </tr>\n",
              "    <tr>\n",
              "      <th>Bathrooms</th>\n",
              "      <td>0.097228</td>\n",
              "      <td>0.116779</td>\n",
              "      <td>0.039576</td>\n",
              "      <td>0.975204</td>\n",
              "      <td>0.079654</td>\n",
              "      <td>0.125393</td>\n",
              "      <td>0.002398</td>\n",
              "      <td>0.042142</td>\n",
              "      <td>-0.020887</td>\n",
              "      <td>-0.005904</td>\n",
              "    </tr>\n",
              "    <tr>\n",
              "      <th>House_Age</th>\n",
              "      <td>0.004009</td>\n",
              "      <td>-0.048245</td>\n",
              "      <td>0.086628</td>\n",
              "      <td>0.019176</td>\n",
              "      <td>0.007456</td>\n",
              "      <td>-0.175481</td>\n",
              "      <td>0.094934</td>\n",
              "      <td>0.505116</td>\n",
              "      <td>0.675186</td>\n",
              "      <td>0.488779</td>\n",
              "    </tr>\n",
              "    <tr>\n",
              "      <th>Floors</th>\n",
              "      <td>0.487086</td>\n",
              "      <td>-0.636807</td>\n",
              "      <td>-0.586328</td>\n",
              "      <td>0.046592</td>\n",
              "      <td>0.056224</td>\n",
              "      <td>-0.016779</td>\n",
              "      <td>-0.029537</td>\n",
              "      <td>0.060387</td>\n",
              "      <td>0.018855</td>\n",
              "      <td>-0.054358</td>\n",
              "    </tr>\n",
              "    <tr>\n",
              "      <th>Has_Garage</th>\n",
              "      <td>0.699765</td>\n",
              "      <td>-0.107612</td>\n",
              "      <td>0.690398</td>\n",
              "      <td>-0.094088</td>\n",
              "      <td>0.040209</td>\n",
              "      <td>0.025367</td>\n",
              "      <td>0.024631</td>\n",
              "      <td>0.009387</td>\n",
              "      <td>-0.101444</td>\n",
              "      <td>-0.000890</td>\n",
              "    </tr>\n",
              "    <tr>\n",
              "      <th>Distance_to_City</th>\n",
              "      <td>-0.038301</td>\n",
              "      <td>-0.035673</td>\n",
              "      <td>-0.078206</td>\n",
              "      <td>-0.013201</td>\n",
              "      <td>0.017474</td>\n",
              "      <td>0.047348</td>\n",
              "      <td>0.488474</td>\n",
              "      <td>0.151758</td>\n",
              "      <td>-0.600255</td>\n",
              "      <td>0.605375</td>\n",
              "    </tr>\n",
              "    <tr>\n",
              "      <th>Neighborhood_Quality</th>\n",
              "      <td>0.066602</td>\n",
              "      <td>0.033256</td>\n",
              "      <td>-0.056621</td>\n",
              "      <td>-0.081880</td>\n",
              "      <td>-0.429356</td>\n",
              "      <td>0.873369</td>\n",
              "      <td>-0.013896</td>\n",
              "      <td>0.009987</td>\n",
              "      <td>0.159551</td>\n",
              "      <td>0.108068</td>\n",
              "    </tr>\n",
              "    <tr>\n",
              "      <th>Property_Tax_Rate</th>\n",
              "      <td>-0.005071</td>\n",
              "      <td>-0.012762</td>\n",
              "      <td>0.012525</td>\n",
              "      <td>0.016778</td>\n",
              "      <td>-0.171743</td>\n",
              "      <td>-0.040587</td>\n",
              "      <td>0.827888</td>\n",
              "      <td>0.065830</td>\n",
              "      <td>0.181466</td>\n",
              "      <td>-0.495547</td>\n",
              "    </tr>\n",
              "    <tr>\n",
              "      <th>Has_Garden</th>\n",
              "      <td>0.502055</td>\n",
              "      <td>0.748213</td>\n",
              "      <td>-0.400621</td>\n",
              "      <td>-0.110142</td>\n",
              "      <td>0.002807</td>\n",
              "      <td>-0.110248</td>\n",
              "      <td>0.026418</td>\n",
              "      <td>0.032342</td>\n",
              "      <td>0.027842</td>\n",
              "      <td>0.028422</td>\n",
              "    </tr>\n",
              "  </tbody>\n",
              "</table>\n",
              "</div>\n",
              "    <div class=\"colab-df-buttons\">\n",
              "\n",
              "  <div class=\"colab-df-container\">\n",
              "    <button class=\"colab-df-convert\" onclick=\"convertToInteractive('df-170cc46c-5f1b-4630-ae59-0f11ec6e7b9e')\"\n",
              "            title=\"Convert this dataframe to an interactive table.\"\n",
              "            style=\"display:none;\">\n",
              "\n",
              "  <svg xmlns=\"http://www.w3.org/2000/svg\" height=\"24px\" viewBox=\"0 -960 960 960\">\n",
              "    <path d=\"M120-120v-720h720v720H120Zm60-500h600v-160H180v160Zm220 220h160v-160H400v160Zm0 220h160v-160H400v160ZM180-400h160v-160H180v160Zm440 0h160v-160H620v160ZM180-180h160v-160H180v160Zm440 0h160v-160H620v160Z\"/>\n",
              "  </svg>\n",
              "    </button>\n",
              "\n",
              "  <style>\n",
              "    .colab-df-container {\n",
              "      display:flex;\n",
              "      gap: 12px;\n",
              "    }\n",
              "\n",
              "    .colab-df-convert {\n",
              "      background-color: #E8F0FE;\n",
              "      border: none;\n",
              "      border-radius: 50%;\n",
              "      cursor: pointer;\n",
              "      display: none;\n",
              "      fill: #1967D2;\n",
              "      height: 32px;\n",
              "      padding: 0 0 0 0;\n",
              "      width: 32px;\n",
              "    }\n",
              "\n",
              "    .colab-df-convert:hover {\n",
              "      background-color: #E2EBFA;\n",
              "      box-shadow: 0px 1px 2px rgba(60, 64, 67, 0.3), 0px 1px 3px 1px rgba(60, 64, 67, 0.15);\n",
              "      fill: #174EA6;\n",
              "    }\n",
              "\n",
              "    .colab-df-buttons div {\n",
              "      margin-bottom: 4px;\n",
              "    }\n",
              "\n",
              "    [theme=dark] .colab-df-convert {\n",
              "      background-color: #3B4455;\n",
              "      fill: #D2E3FC;\n",
              "    }\n",
              "\n",
              "    [theme=dark] .colab-df-convert:hover {\n",
              "      background-color: #434B5C;\n",
              "      box-shadow: 0px 1px 3px 1px rgba(0, 0, 0, 0.15);\n",
              "      filter: drop-shadow(0px 1px 2px rgba(0, 0, 0, 0.3));\n",
              "      fill: #FFFFFF;\n",
              "    }\n",
              "  </style>\n",
              "\n",
              "    <script>\n",
              "      const buttonEl =\n",
              "        document.querySelector('#df-170cc46c-5f1b-4630-ae59-0f11ec6e7b9e button.colab-df-convert');\n",
              "      buttonEl.style.display =\n",
              "        google.colab.kernel.accessAllowed ? 'block' : 'none';\n",
              "\n",
              "      async function convertToInteractive(key) {\n",
              "        const element = document.querySelector('#df-170cc46c-5f1b-4630-ae59-0f11ec6e7b9e');\n",
              "        const dataTable =\n",
              "          await google.colab.kernel.invokeFunction('convertToInteractive',\n",
              "                                                    [key], {});\n",
              "        if (!dataTable) return;\n",
              "\n",
              "        const docLinkHtml = 'Like what you see? Visit the ' +\n",
              "          '<a target=\"_blank\" href=https://colab.research.google.com/notebooks/data_table.ipynb>data table notebook</a>'\n",
              "          + ' to learn more about interactive tables.';\n",
              "        element.innerHTML = '';\n",
              "        dataTable['output_type'] = 'display_data';\n",
              "        await google.colab.output.renderOutput(dataTable, element);\n",
              "        const docLink = document.createElement('div');\n",
              "        docLink.innerHTML = docLinkHtml;\n",
              "        element.appendChild(docLink);\n",
              "      }\n",
              "    </script>\n",
              "  </div>\n",
              "\n",
              "\n",
              "<div id=\"df-3a2282a4-3dd4-48df-8bcc-77f4fb5a2141\">\n",
              "  <button class=\"colab-df-quickchart\" onclick=\"quickchart('df-3a2282a4-3dd4-48df-8bcc-77f4fb5a2141')\"\n",
              "            title=\"Suggest charts\"\n",
              "            style=\"display:none;\">\n",
              "\n",
              "<svg xmlns=\"http://www.w3.org/2000/svg\" height=\"24px\"viewBox=\"0 0 24 24\"\n",
              "     width=\"24px\">\n",
              "    <g>\n",
              "        <path d=\"M19 3H5c-1.1 0-2 .9-2 2v14c0 1.1.9 2 2 2h14c1.1 0 2-.9 2-2V5c0-1.1-.9-2-2-2zM9 17H7v-7h2v7zm4 0h-2V7h2v10zm4 0h-2v-4h2v4z\"/>\n",
              "    </g>\n",
              "</svg>\n",
              "  </button>\n",
              "\n",
              "<style>\n",
              "  .colab-df-quickchart {\n",
              "      --bg-color: #E8F0FE;\n",
              "      --fill-color: #1967D2;\n",
              "      --hover-bg-color: #E2EBFA;\n",
              "      --hover-fill-color: #174EA6;\n",
              "      --disabled-fill-color: #AAA;\n",
              "      --disabled-bg-color: #DDD;\n",
              "  }\n",
              "\n",
              "  [theme=dark] .colab-df-quickchart {\n",
              "      --bg-color: #3B4455;\n",
              "      --fill-color: #D2E3FC;\n",
              "      --hover-bg-color: #434B5C;\n",
              "      --hover-fill-color: #FFFFFF;\n",
              "      --disabled-bg-color: #3B4455;\n",
              "      --disabled-fill-color: #666;\n",
              "  }\n",
              "\n",
              "  .colab-df-quickchart {\n",
              "    background-color: var(--bg-color);\n",
              "    border: none;\n",
              "    border-radius: 50%;\n",
              "    cursor: pointer;\n",
              "    display: none;\n",
              "    fill: var(--fill-color);\n",
              "    height: 32px;\n",
              "    padding: 0;\n",
              "    width: 32px;\n",
              "  }\n",
              "\n",
              "  .colab-df-quickchart:hover {\n",
              "    background-color: var(--hover-bg-color);\n",
              "    box-shadow: 0 1px 2px rgba(60, 64, 67, 0.3), 0 1px 3px 1px rgba(60, 64, 67, 0.15);\n",
              "    fill: var(--button-hover-fill-color);\n",
              "  }\n",
              "\n",
              "  .colab-df-quickchart-complete:disabled,\n",
              "  .colab-df-quickchart-complete:disabled:hover {\n",
              "    background-color: var(--disabled-bg-color);\n",
              "    fill: var(--disabled-fill-color);\n",
              "    box-shadow: none;\n",
              "  }\n",
              "\n",
              "  .colab-df-spinner {\n",
              "    border: 2px solid var(--fill-color);\n",
              "    border-color: transparent;\n",
              "    border-bottom-color: var(--fill-color);\n",
              "    animation:\n",
              "      spin 1s steps(1) infinite;\n",
              "  }\n",
              "\n",
              "  @keyframes spin {\n",
              "    0% {\n",
              "      border-color: transparent;\n",
              "      border-bottom-color: var(--fill-color);\n",
              "      border-left-color: var(--fill-color);\n",
              "    }\n",
              "    20% {\n",
              "      border-color: transparent;\n",
              "      border-left-color: var(--fill-color);\n",
              "      border-top-color: var(--fill-color);\n",
              "    }\n",
              "    30% {\n",
              "      border-color: transparent;\n",
              "      border-left-color: var(--fill-color);\n",
              "      border-top-color: var(--fill-color);\n",
              "      border-right-color: var(--fill-color);\n",
              "    }\n",
              "    40% {\n",
              "      border-color: transparent;\n",
              "      border-right-color: var(--fill-color);\n",
              "      border-top-color: var(--fill-color);\n",
              "    }\n",
              "    60% {\n",
              "      border-color: transparent;\n",
              "      border-right-color: var(--fill-color);\n",
              "    }\n",
              "    80% {\n",
              "      border-color: transparent;\n",
              "      border-right-color: var(--fill-color);\n",
              "      border-bottom-color: var(--fill-color);\n",
              "    }\n",
              "    90% {\n",
              "      border-color: transparent;\n",
              "      border-bottom-color: var(--fill-color);\n",
              "    }\n",
              "  }\n",
              "</style>\n",
              "\n",
              "  <script>\n",
              "    async function quickchart(key) {\n",
              "      const quickchartButtonEl =\n",
              "        document.querySelector('#' + key + ' button');\n",
              "      quickchartButtonEl.disabled = true;  // To prevent multiple clicks.\n",
              "      quickchartButtonEl.classList.add('colab-df-spinner');\n",
              "      try {\n",
              "        const charts = await google.colab.kernel.invokeFunction(\n",
              "            'suggestCharts', [key], {});\n",
              "      } catch (error) {\n",
              "        console.error('Error during call to suggestCharts:', error);\n",
              "      }\n",
              "      quickchartButtonEl.classList.remove('colab-df-spinner');\n",
              "      quickchartButtonEl.classList.add('colab-df-quickchart-complete');\n",
              "    }\n",
              "    (() => {\n",
              "      let quickchartButtonEl =\n",
              "        document.querySelector('#df-3a2282a4-3dd4-48df-8bcc-77f4fb5a2141 button');\n",
              "      quickchartButtonEl.style.display =\n",
              "        google.colab.kernel.accessAllowed ? 'block' : 'none';\n",
              "    })();\n",
              "  </script>\n",
              "</div>\n",
              "\n",
              "  <div id=\"id_5f1f6584-4fe5-447c-b4c0-e8575a0b3d7e\">\n",
              "    <style>\n",
              "      .colab-df-generate {\n",
              "        background-color: #E8F0FE;\n",
              "        border: none;\n",
              "        border-radius: 50%;\n",
              "        cursor: pointer;\n",
              "        display: none;\n",
              "        fill: #1967D2;\n",
              "        height: 32px;\n",
              "        padding: 0 0 0 0;\n",
              "        width: 32px;\n",
              "      }\n",
              "\n",
              "      .colab-df-generate:hover {\n",
              "        background-color: #E2EBFA;\n",
              "        box-shadow: 0px 1px 2px rgba(60, 64, 67, 0.3), 0px 1px 3px 1px rgba(60, 64, 67, 0.15);\n",
              "        fill: #174EA6;\n",
              "      }\n",
              "\n",
              "      [theme=dark] .colab-df-generate {\n",
              "        background-color: #3B4455;\n",
              "        fill: #D2E3FC;\n",
              "      }\n",
              "\n",
              "      [theme=dark] .colab-df-generate:hover {\n",
              "        background-color: #434B5C;\n",
              "        box-shadow: 0px 1px 3px 1px rgba(0, 0, 0, 0.15);\n",
              "        filter: drop-shadow(0px 1px 2px rgba(0, 0, 0, 0.3));\n",
              "        fill: #FFFFFF;\n",
              "      }\n",
              "    </style>\n",
              "    <button class=\"colab-df-generate\" onclick=\"generateWithVariable('loadings_df')\"\n",
              "            title=\"Generate code using this dataframe.\"\n",
              "            style=\"display:none;\">\n",
              "\n",
              "  <svg xmlns=\"http://www.w3.org/2000/svg\" height=\"24px\"viewBox=\"0 0 24 24\"\n",
              "       width=\"24px\">\n",
              "    <path d=\"M7,19H8.4L18.45,9,17,7.55,7,17.6ZM5,21V16.75L18.45,3.32a2,2,0,0,1,2.83,0l1.4,1.43a1.91,1.91,0,0,1,.58,1.4,1.91,1.91,0,0,1-.58,1.4L9.25,21ZM18.45,9,17,7.55Zm-12,3A5.31,5.31,0,0,0,4.9,8.1,5.31,5.31,0,0,0,1,6.5,5.31,5.31,0,0,0,4.9,4.9,5.31,5.31,0,0,0,6.5,1,5.31,5.31,0,0,0,8.1,4.9,5.31,5.31,0,0,0,12,6.5,5.46,5.46,0,0,0,6.5,12Z\"/>\n",
              "  </svg>\n",
              "    </button>\n",
              "    <script>\n",
              "      (() => {\n",
              "      const buttonEl =\n",
              "        document.querySelector('#id_5f1f6584-4fe5-447c-b4c0-e8575a0b3d7e button.colab-df-generate');\n",
              "      buttonEl.style.display =\n",
              "        google.colab.kernel.accessAllowed ? 'block' : 'none';\n",
              "\n",
              "      buttonEl.onclick = () => {\n",
              "        google.colab.notebook.generateWithVariable('loadings_df');\n",
              "      }\n",
              "      })();\n",
              "    </script>\n",
              "  </div>\n",
              "\n",
              "    </div>\n",
              "  </div>\n"
            ],
            "text/plain": [
              "                           PC1       PC2       PC3       PC4       PC5  \\\n",
              "Square_Footage       -0.050917  0.035332  0.014302 -0.024888 -0.210319   \n",
              "Bedrooms             -0.055017  0.057602 -0.017847 -0.132951  0.854653   \n",
              "Bathrooms             0.097228  0.116779  0.039576  0.975204  0.079654   \n",
              "House_Age             0.004009 -0.048245  0.086628  0.019176  0.007456   \n",
              "Floors                0.487086 -0.636807 -0.586328  0.046592  0.056224   \n",
              "Has_Garage            0.699765 -0.107612  0.690398 -0.094088  0.040209   \n",
              "Distance_to_City     -0.038301 -0.035673 -0.078206 -0.013201  0.017474   \n",
              "Neighborhood_Quality  0.066602  0.033256 -0.056621 -0.081880 -0.429356   \n",
              "Property_Tax_Rate    -0.005071 -0.012762  0.012525  0.016778 -0.171743   \n",
              "Has_Garden            0.502055  0.748213 -0.400621 -0.110142  0.002807   \n",
              "\n",
              "                           PC6       PC7       PC8       PC9      PC10  \n",
              "Square_Footage       -0.012684 -0.237480  0.818153 -0.333819 -0.337244  \n",
              "Bedrooms              0.416630  0.090602  0.203625  0.046241 -0.140848  \n",
              "Bathrooms             0.125393  0.002398  0.042142 -0.020887 -0.005904  \n",
              "House_Age            -0.175481  0.094934  0.505116  0.675186  0.488779  \n",
              "Floors               -0.016779 -0.029537  0.060387  0.018855 -0.054358  \n",
              "Has_Garage            0.025367  0.024631  0.009387 -0.101444 -0.000890  \n",
              "Distance_to_City      0.047348  0.488474  0.151758 -0.600255  0.605375  \n",
              "Neighborhood_Quality  0.873369 -0.013896  0.009987  0.159551  0.108068  \n",
              "Property_Tax_Rate    -0.040587  0.827888  0.065830  0.181466 -0.495547  \n",
              "Has_Garden           -0.110248  0.026418  0.032342  0.027842  0.028422  "
            ]
          },
          "execution_count": 90,
          "metadata": {},
          "output_type": "execute_result"
        }
      ],
      "source": [
        "# Display the loadings\n",
        "loadings_df"
      ]
    },
    {
      "cell_type": "markdown",
      "metadata": {
        "id": "dO50fVDTbMu4"
      },
      "source": [
        "Linear Regression After PCA"
      ]
    },
    {
      "cell_type": "code",
      "execution_count": null,
      "metadata": {
        "id": "93ZRhHpWbQGj"
      },
      "outputs": [],
      "source": [
        "#split data into training and testing\n",
        "X_train_pca, X_test_pca, y_train_pca, y_test_pca = train_test_split(X_top_pca,y_scaled, test_size=0.2, random_state=42)"
      ]
    },
    {
      "cell_type": "code",
      "execution_count": null,
      "metadata": {
        "id": "UD-ex3prbYNl"
      },
      "outputs": [],
      "source": [
        "# Linear Regression with PCA\n",
        "lin_reg_pca = LinearRegression()\n",
        "lin_reg_pca.fit(X_train_pca, y_train_pca)\n",
        "y_pred_lin_pca = lin_reg_pca.predict(X_test_pca)"
      ]
    },
    {
      "cell_type": "code",
      "execution_count": null,
      "metadata": {
        "id": "ykKovY9ubazA"
      },
      "outputs": [],
      "source": [
        "#inverse predicted values\n",
        "y_pred_lin_pca_inv = scaler_y.inverse_transform(y_pred_lin_pca)\n",
        "y_test_inv_pca = scaler_y.inverse_transform(y_test_pca)"
      ]
    },
    {
      "cell_type": "code",
      "execution_count": null,
      "metadata": {
        "id": "5b6NjdVHbc1Y"
      },
      "outputs": [],
      "source": [
        "#evaluate the model\n",
        "mse_lin_pca = mean_squared_error(y_test_inv_pca, y_pred_lin_pca_inv)\n",
        "rmse_lin_pca = np.sqrt(mse_lin_pca)\n",
        "r2_lin_pca = r2_score(y_test_inv_pca, y_pred_lin_pca_inv)"
      ]
    },
    {
      "cell_type": "code",
      "execution_count": null,
      "metadata": {
        "colab": {
          "base_uri": "https://localhost:8080/"
        },
        "id": "fXGRfbGgbexf",
        "outputId": "0108e182-fdf7-4b8c-891c-5233ddffcd3d"
      },
      "outputs": [
        {
          "name": "stdout",
          "output_type": "stream",
          "text": [
            "Linear Regression - MSE: 8.156927282058913e-21, R^2 Score: 1.0, RMSE: 9.03157089440088e-11\n"
          ]
        }
      ],
      "source": [
        "#generate report\n",
        "print(f\"Linear Regression - MSE: {mse_lin_pca}, R^2 Score: {r2_lin_pca}, RMSE: {rmse_lin_pca}\")"
      ]
    }
  ],
  "metadata": {
    "colab": {
      "collapsed_sections": [
        "WtpY7itWArJd",
        "m3UbmPYoAbC0",
        "D5-Uy16AZQdR",
        "jSOnqbjsZrVW",
        "Q9K3fxduXCBz",
        "M4tyYBZ-bKBT",
        "TpaZObLCJ-NJ",
        "TszVCWNAgW_b",
        "BWJ2Sf9ORhc7",
        "IdpwPYs7UrUs",
        "4WPXTnotYWMw",
        "X_aPMUU_3WQ_",
        "A0R0l1weZm56"
      ],
      "provenance": []
    },
    "kernelspec": {
      "display_name": "Python 3",
      "name": "python3"
    },
    "language_info": {
      "codemirror_mode": {
        "name": "ipython",
        "version": 3
      },
      "file_extension": ".py",
      "mimetype": "text/x-python",
      "name": "python",
      "nbconvert_exporter": "python",
      "pygments_lexer": "ipython3",
      "version": "3.12.1"
    }
  },
  "nbformat": 4,
  "nbformat_minor": 0
}
